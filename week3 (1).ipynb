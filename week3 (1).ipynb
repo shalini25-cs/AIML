{
 "cells": [
  {
   "cell_type": "code",
   "execution_count": 1,
   "id": "023c9d74-7ac0-4005-9de7-8497417a75d4",
   "metadata": {},
   "outputs": [
    {
     "name": "stdout",
     "output_type": "stream",
     "text": [
      "array is type: <class 'numpy.ndarray'>\n",
      "array is dimension: 2\n",
      "shape of array: (2, 3)\n",
      "size of array: 6\n",
      "array stores element of type int64\n"
     ]
    }
   ],
   "source": [
    "#1.Numpy Array\n",
    "#1. program to demonstrate array creation\n",
    "import numpy as np\n",
    "arr=np.array([[1,2,3],\n",
    "            [4,5,6]])\n",
    "print(\"array is type:\",type(arr))\n",
    "print(\"array is dimension:\",arr.ndim)\n",
    "print(\"shape of array:\",arr.shape)\n",
    "print(\"size of array:\",arr.size)\n",
    "print(\"array stores element of type\",arr.dtype)"
   ]
  },
  {
   "cell_type": "code",
   "execution_count": 9,
   "id": "e532cf58-36cf-4ff5-a54d-c126a37fd754",
   "metadata": {},
   "outputs": [
    {
     "name": "stdout",
     "output_type": "stream",
     "text": [
      "Array created using passed list:\n",
      " [[1. 2. 4.]\n",
      " [5. 6. 7.]]\n",
      "\n",
      "Array created using passed tuple:\n",
      " [1 2 3]\n",
      "\n",
      "Array created using passed zeros:\n",
      " [[0. 0. 0. 0.]\n",
      " [0. 0. 0. 0.]\n",
      " [0. 0. 0. 0.]]\n",
      "\n",
      " An array initialized with all 6s. Array type is complex:\n",
      " [[6.+0.j 6.+0.j 6.+0.j]\n",
      " [6.+0.j 6.+0.j 6.+0.j]\n",
      " [6.+0.j 6.+0.j 6.+0.j]]\n",
      "\n",
      " A random array:\n",
      " [[0.33219345 0.91667634]\n",
      " [0.57558168 0.0776444 ]]\n",
      "\n",
      " sequence array with steps of 5:\n",
      " [ 0  5 10 15 20 25]\n",
      "\n",
      " A sequence array with 10 values between 0 and 5:\n",
      " [0.         0.55555556 1.11111111 1.66666667 2.22222222 2.77777778\n",
      " 3.33333333 3.88888889 4.44444444 5.        ]\n",
      "\n",
      " original array:\n",
      " [[ 1  2  3  5]\n",
      " [ 4  5  6  6]\n",
      " [ 5  8  9 11]]\n",
      "Reshaped array:\n",
      " [[[ 1  2  3]\n",
      "  [ 5  4  5]]\n",
      "\n",
      " [[ 6  6  5]\n",
      "  [ 8  9 11]]]\n",
      "\n",
      " original array:\n",
      " [[1 2 3]\n",
      " [4 5 6]]\n",
      "flatten array:\n",
      " [1 2 3 4 5 6]\n"
     ]
    }
   ],
   "source": [
    "#2.program to demonstrate array\n",
    "import numpy as np\n",
    "#creating array from list type float\n",
    "a=np.array([[1,2,4],[5,6,7]],dtype='float')\n",
    "print(\"Array created using passed list:\\n\",a)\n",
    "#creating array from tuple\n",
    "b=np.array((1,2,3))\n",
    "print(\"\\nArray created using passed tuple:\\n\",b)\n",
    "#creating a 3X4 array with  all zeros\n",
    "c=np.zeros((3,4))\n",
    "print(\"\\nArray created using passed zeros:\\n\",c)\n",
    "# creating a constant values array of complex type\n",
    "d=np.full((3,3),6,dtype='complex')\n",
    "print(\"\\n An array initialized with all 6s.\",\"Array type is complex:\\n\",d)\n",
    "#creating an array with random values\n",
    "e=np.random.random((2,2))\n",
    "print(\"\\n A random array:\\n\",e)\n",
    "#creating a sequence of integers\n",
    "#from 0 to 30 with steps of 5 \n",
    "f=np.arange(0,30,5)\n",
    "print(\"\\n sequence array with steps of 5:\\n\",f)\n",
    "#create sequence of 10 values  in range 0 to 5\n",
    "g=np.linspace(0,5,10)\n",
    "print(\"\\n A sequence array with 10 values between 0 and 5:\\n\",g)\n",
    "#reshaping 3X4 array to 2X2X3 array\n",
    "arr=np.array([[1,2,3,5],\n",
    "             [4,5,6,6],\n",
    "             [5,8,9,11]])\n",
    "newarr=arr.reshape(2,2,3)\n",
    "print(\"\\n original array:\\n\",arr)\n",
    "print(\"Reshaped array:\\n\",newarr)\n",
    "#flatten array\n",
    "arr=np.array([[1,2,3],[4,5,6]])\n",
    "flarr=arr.flatten()\n",
    "print(\"\\n original array:\\n\",arr)\n",
    "print(\"flatten array:\\n\",flarr)"
   ]
  },
  {
   "cell_type": "code",
   "execution_count": 10,
   "id": "4291c461-c3ed-4c55-8874-f0c626034799",
   "metadata": {},
   "outputs": [
    {
     "name": "stdout",
     "output_type": "stream",
     "text": [
      "adding 1 to every element: [2 6 7 8]\n",
      "adding 2 to every element: [3 7 8 9]\n",
      "substract to every element: [-2  2  3  4]\n",
      "multiply every  each element to 10: [10 50 60 70]\n",
      "square every  each element: [ 1 25 36 49]\n",
      "doubleed each element: [ 2 10 12 14]\n",
      "\n",
      "original array:\n",
      " [[1 5 3]\n",
      " [5 6 4]\n",
      " [4 5 8]]\n",
      "Transpose of array:\n",
      " [[1 5 4]\n",
      " [5 6 5]\n",
      " [3 4 8]]\n"
     ]
    }
   ],
   "source": [
    "#3.program to demonstrate basic array operations\n",
    "import numpy as np\n",
    "a=np.array([1,5,6,7])\n",
    "#add 1 to every element \n",
    "print(\"adding 1 to every element:\",a+1)\n",
    "#add 2 to every element \n",
    "print(\"adding 2 to every element:\",a+2)\n",
    "#subtract 4 to every  each element \n",
    "print(\"substract to every element:\",a-3)\n",
    "#multiply every  each element to 10\n",
    "print(\"multiply every  each element to 10:\",a*10)\n",
    "#square  each element \n",
    "print(\"square every  each element:\",a**2)\n",
    "#modify existing array\n",
    "a*=2\n",
    "print(\"doubleed each element:\",a)\n",
    "#transpose of array\n",
    "a=np.array([[1,5,3],[5,6,4],[4,5,8]])\n",
    "print(\"\\noriginal array:\\n\",a)\n",
    "print(\"Transpose of array:\\n\",a.T)"
   ]
  },
  {
   "cell_type": "code",
   "execution_count": 11,
   "id": "aec7c4c0-2695-43dd-bec2-c4c0108c47b9",
   "metadata": {},
   "outputs": [
    {
     "name": "stdout",
     "output_type": "stream",
     "text": [
      "Largest element is: 9\n",
      "Row-wise maximum elements: [6 7 9]\n",
      "Column-wise minimum elements: [1 1 2]\n",
      "Sum of all array elements: 38\n",
      "Cumulative sum along each row:\n",
      " [[ 1  6 12]\n",
      " [ 4 11 13]\n",
      " [ 3  4 13]]\n"
     ]
    }
   ],
   "source": [
    "#2.Array Aggregation Function\n",
    "#4.program to demonstrate array aggregation function\n",
    "import numpy as np\n",
    "\n",
    "arr = np.array([[1, 5, 6],\n",
    "                [4, 7, 2],\n",
    "                [3, 1, 9]])\n",
    "\n",
    "# Maximum element of array\n",
    "print(\"Largest element is:\", arr.max())\n",
    "print(\"Row-wise maximum elements:\", arr.max(axis=1))\n",
    "\n",
    "# Minimum element of array\n",
    "print(\"Column-wise minimum elements:\", arr.min(axis=0))\n",
    "\n",
    "# Sum of array elements\n",
    "print(\"Sum of all array elements:\", arr.sum())\n",
    "\n",
    "# Cumulative sum along each row\n",
    "print(\"Cumulative sum along each row:\\n\", arr.cumsum(axis=1))"
   ]
  },
  {
   "cell_type": "code",
   "execution_count": 15,
   "id": "5de91649-28d3-401e-83f5-ffae11383264",
   "metadata": {},
   "outputs": [
    {
     "name": "stdout",
     "output_type": "stream",
     "text": [
      "Array aggregate function\n",
      "[10 20 30 40 50]\n",
      "[[10 10 20]\n",
      " [30 40 50]\n",
      " [60 70 80]]\n",
      "[[ 14   6   9 -12  19  72]\n",
      " [ -9   8  22   0  99 -11]]\n",
      "The sum of array 1, 2, 3 respectively:\n",
      "150\n",
      "370\n",
      "217\n",
      "The average of array 1, 2, 3 respectively:\n",
      "30.0\n",
      "41.111111111111114\n",
      "18.083333333333332\n",
      "The min of array1 and max of array2:\n",
      "10\n",
      "80\n"
     ]
    }
   ],
   "source": [
    "#5 Array aggregate function\n",
    "import numpy as np\n",
    "print(\"Array aggregate function\")\n",
    "arr1 = np.array([10, 20, 30, 40, 50])\n",
    "print(arr1)\n",
    "\n",
    "arr2 = np.array([[10, 10, 20],\n",
    "                 [30, 40, 50],\n",
    "                 [60, 70, 80]])\n",
    "print(arr2)\n",
    "\n",
    "arr3 = np.array([[14, 6, 9, -12, 19, 72],\n",
    "                 [-9, 8, 22, 0, 99, -11]])\n",
    "print(arr3)\n",
    "\n",
    "print(\"The sum of array 1, 2, 3 respectively:\")\n",
    "print(arr1.sum())\n",
    "print(arr2.sum())\n",
    "print(arr3.sum())\n",
    "\n",
    "print(\"The average of array 1, 2, 3 respectively:\")\n",
    "print(np.average(arr1))\n",
    "print(np.average(arr2))\n",
    "print(np.average(arr3))\n",
    "\n",
    "print(\"The min of array1 and max of array2:\")\n",
    "print(arr1.min())\n",
    "print(arr2.max())"
   ]
  },
  {
   "cell_type": "code",
   "execution_count": 14,
   "id": "2bb6b328-7924-4918-be15-fd461abbb43b",
   "metadata": {},
   "outputs": [
    {
     "name": "stdout",
     "output_type": "stream",
     "text": [
      "Binary Operators in NumPy\n",
      "Array sum:\n",
      " [[5 5]\n",
      " [5 5]]\n",
      "Array multiplication:\n",
      " [[4 6]\n",
      " [6 4]]\n",
      "Matrix multiplication:\n",
      " [[ 8  5]\n",
      " [20 13]]\n"
     ]
    }
   ],
   "source": [
    "#Binary Operators in NumPy\n",
    "import numpy as np\n",
    "print(\"Binary Operators in NumPy\")\n",
    "\n",
    "a = np.array([[1, 2],\n",
    "              [3, 4]])\n",
    "b = np.array([[4, 3],\n",
    "              [2, 1]])\n",
    "\n",
    "# Element-wise sum\n",
    "print(\"Array sum:\\n\", a + b)\n",
    "\n",
    "# Element-wise multiplication\n",
    "print(\"Array multiplication:\\n\", a * b)\n",
    "\n",
    "# Matrix multiplication (dot product)\n",
    "print(\"Matrix multiplication:\\n\", a.dot(b))"
   ]
  },
  {
   "cell_type": "code",
   "execution_count": 16,
   "id": "661f566c-85c9-4ed6-a681-ce0abf8da76b",
   "metadata": {},
   "outputs": [
    {
     "name": "stdout",
     "output_type": "stream",
     "text": [
      "50\n",
      "30\n",
      "7\n",
      "2\n"
     ]
    }
   ],
   "source": [
    "# Single argument lambda function\n",
    "x = lambda a: a * 10\n",
    "print(x(5))  # Output: 50\n",
    "\n",
    "# Two arguments multiplication\n",
    "x = lambda a, b: a * b\n",
    "print(x(5, 6))  # Output: 30\n",
    "\n",
    "# Sum of two numbers using lambda\n",
    "sum = lambda x, y: x + y\n",
    "print(sum(3, 4))  # Output: 7\n",
    "\n",
    "# Using if-else inside lambda\n",
    "Max = lambda a, b: a if a > b else b\n",
    "print(Max(1, 2))  # Output: 2"
   ]
  },
  {
   "cell_type": "code",
   "execution_count": 1,
   "id": "c607e731-283f-4463-b8c1-5376502723ec",
   "metadata": {},
   "outputs": [
    {
     "name": "stdout",
     "output_type": "stream",
     "text": [
      "[4, 16, 36, 64]\n",
      "[17, 10, 19, 23]\n",
      "[2, 4, 6, 8]\n",
      "[2, 4, 6, 8]\n"
     ]
    }
   ],
   "source": [
    "# Using map with lambda to square elements\n",
    "arr = [2, 4, 6, 8]\n",
    "arr = list(map(lambda x: x * x, arr))\n",
    "print(arr)\n",
    "\n",
    "# Using map with multiple lists\n",
    "a = [1, 2, 3, 4]\n",
    "b = [17, 12, 11, 10]\n",
    "c = [-1, -4, 5, 9]\n",
    "print(list(map(lambda x, y, z: x + y + z, a, b, c)))\n",
    "\n",
    "# Using map with normal function\n",
    "def addition(n):\n",
    "    return n + n\n",
    "\n",
    "numbers = (1, 2, 3, 4)\n",
    "result = map(addition, numbers)\n",
    "print(list(result))\n",
    "\n",
    "# Using map and lambda to double values\n",
    "numbers = (1, 2, 3, 4)\n",
    "result = map(lambda x: x + x, numbers)\n",
    "print(list(result))"
   ]
  },
  {
   "cell_type": "code",
   "execution_count": 2,
   "id": "0e196f95-499b-4161-8eb0-303c1a0bc5fe",
   "metadata": {},
   "outputs": [
    {
     "name": "stdout",
     "output_type": "stream",
     "text": [
      "['mango', 'orange', 'grapes']\n",
      "[1, 1, 3, 5, 13, 21, 55]\n"
     ]
    }
   ],
   "source": [
    "# Filter fruits containing 'g'\n",
    "fruits = ['mango', 'apple', 'orange', 'cherry', 'grapes']\n",
    "print(list(filter(lambda fruit: 'g' in fruit, fruits)))\n",
    "\n",
    "# Filter odd numbers from Fibonacci series\n",
    "fibonacci = [0, 1, 1, 2, 3, 5, 8, 13, 21, 34, 55]\n",
    "odd_numbers = list(filter(lambda x: x % 2, fibonacci))\n",
    "print(odd_numbers)"
   ]
  },
  {
   "cell_type": "code",
   "execution_count": 3,
   "id": "ac0d6bce-d4bb-4746-a5d7-24472677f91f",
   "metadata": {},
   "outputs": [
    {
     "name": "stdout",
     "output_type": "stream",
     "text": [
      "30\n",
      "8\n",
      "2\n"
     ]
    }
   ],
   "source": [
    "from functools import reduce\n",
    "\n",
    "# Sum of all elements\n",
    "lst = [2, 4, 6, 8, 10]\n",
    "print(reduce(lambda x, y: x + y, lst))  # Output: 30\n",
    "\n",
    "# Find largest element\n",
    "lst = [2, 4, 6, 8]\n",
    "print(reduce(lambda x, y: x if x > y else y, lst))  # Output: 8\n",
    "\n",
    "# Find smallest element\n",
    "print(reduce(lambda x, y: x if x < y else y, lst))  # Output: 2"
   ]
  },
  {
   "cell_type": "code",
   "execution_count": 4,
   "id": "720dcd57-13cd-47a9-8ba4-75df0e73f894",
   "metadata": {},
   "outputs": [
    {
     "name": "stdout",
     "output_type": "stream",
     "text": [
      "0    p\n",
      "1    a\n",
      "2    n\n",
      "3    d\n",
      "4    a\n",
      "5    s\n",
      "dtype: object\n"
     ]
    }
   ],
   "source": [
    "import pandas as pd\n",
    "import numpy as np\n",
    "\n",
    "info = np.array(['p','a','n','d','a','s'])\n",
    "a = pd.Series(info)\n",
    "print(a)"
   ]
  },
  {
   "cell_type": "code",
   "execution_count": 1,
   "id": "3d3dd1bd-4b71-4ca7-be58-54ff62c12d19",
   "metadata": {},
   "outputs": [
    {
     "name": "stdout",
     "output_type": "stream",
     "text": [
      "0    4\n",
      "1    4\n",
      "2    4\n",
      "3    4\n",
      "dtype: int64\n",
      "4    4\n",
      "Name: count, dtype: int64\n"
     ]
    }
   ],
   "source": [
    "import pandas as pd\n",
    "import numpy as np\n",
    "x = pd.Series(4, index=[0, 1, 2, 3])\n",
    "print(x)\n",
    "print(x.value_counts())"
   ]
  },
  {
   "cell_type": "code",
   "execution_count": 5,
   "id": "0715c38e-0418-429d-ad3b-140b3793fda9",
   "metadata": {},
   "outputs": [],
   "source": [
    "import pandas as pd\n",
    "import numpy as np\n",
    "\n",
    "ser1 = pd.Series([1, 2, 3, 4, 5])\n",
    "ser2 = pd.Series([3, 4, 5, 6, 7])\n",
    "union = pd.Series(np.union1d(ser1, ser2))\n",
    "intersect = pd.Series(np.intersect1d(ser1, ser2))"
   ]
  },
  {
   "cell_type": "code",
   "execution_count": 6,
   "id": "6e1af990-26b7-48ed-a0ff-f62adcf41a54",
   "metadata": {},
   "outputs": [
    {
     "name": "stdout",
     "output_type": "stream",
     "text": [
      "   Maths  English  Science  History\n",
      "0      9        4        8        9\n",
      "1      8       16        7        8\n",
      "2      7        6        8        5\n",
      "    Name  Age\n",
      "0    Tom   20\n",
      "1   nick   21\n",
      "2  krish   19\n",
      "3   jack   18\n"
     ]
    }
   ],
   "source": [
    "import pandas as pd\n",
    "df = pd.DataFrame([[9, 4, 8, 9],\n",
    "                   [8, 16, 7, 8],\n",
    "                   [7, 6, 8, 5]],\n",
    "                  columns=['Maths', 'English', 'Science', 'History'])\n",
    "\n",
    "print(df)\n",
    "import pandas as pd\n",
    "data = {'Name':['Tom', 'nick', 'krish', 'jack'],\n",
    "        'Age':[20, 21, 19, 18]}\n",
    "\n",
    "df = pd.DataFrame(data)\n",
    "print(df)"
   ]
  },
  {
   "cell_type": "code",
   "execution_count": 8,
   "id": "bea67e35-f2c7-4a22-9925-8d4503e6f38e",
   "metadata": {},
   "outputs": [
    {
     "name": "stdout",
     "output_type": "stream",
     "text": [
      "   Maths  English  Science  History\n",
      "0      9        4        8        9\n",
      "1      8       16        7        8\n",
      "2      7        6        8        5\n",
      "Maths      24\n",
      "English    26\n",
      "Science    23\n",
      "History    22\n",
      "dtype: int64\n",
      "       Maths    English   Science   History\n",
      "count    3.0   3.000000  3.000000  3.000000\n",
      "mean     8.0   8.666667  7.666667  7.333333\n",
      "std      1.0   6.429101  0.577350  2.081666\n",
      "min      7.0   4.000000  7.000000  5.000000\n",
      "25%      7.5   5.000000  7.500000  6.500000\n",
      "50%      8.0   6.000000  8.000000  8.000000\n",
      "75%      8.5  11.000000  8.000000  8.500000\n",
      "max      9.0  16.000000  8.000000  9.000000\n",
      "     Maths  English  Science  History\n",
      "sum     24       26       23       22\n",
      "min      7        4        7        5\n",
      "max      9       16        8        9\n",
      "       English  Science  History\n",
      "Maths                           \n",
      "7            6        8        5\n",
      "8           16        7        8\n",
      "9            4        8        9\n"
     ]
    }
   ],
   "source": [
    "import pandas as pd\n",
    "df = pd.DataFrame([[9, 4, 8, 9],\n",
    "                   [8, 16, 7, 8],\n",
    "                   [7, 6, 8, 5]],\n",
    "                  columns=['Maths', 'English', 'Science', 'History'])\n",
    "\n",
    "print(df)\n",
    "print(df.sum())\n",
    "print(df.describe())\n",
    "print(df.agg(['sum', 'min', 'max']))\n",
    "a = df.groupby('Maths')\n",
    "print(a.first())"
   ]
  },
  {
   "cell_type": "code",
   "execution_count": 9,
   "id": "6f2f73bc-cec9-4f22-ad05-8919e768e6c2",
   "metadata": {},
   "outputs": [
    {
     "name": "stdout",
     "output_type": "stream",
     "text": [
      "day1    420\n",
      "day2    380\n",
      "day3    390\n",
      "dtype: int64\n",
      "   variable  value\n",
      "0   Newyork     25\n",
      "1   Newyork     27\n",
      "2   Newyork     23\n",
      "3   Newyork     25\n",
      "4   Newyork     29\n",
      "5     Paris     27\n",
      "6     Paris     22\n",
      "7     Paris     24\n",
      "8     Paris     26\n",
      "9     Paris     28\n",
      "10   London     30\n",
      "11   London     31\n",
      "12   London     33\n",
      "13   London     29\n",
      "14   London     25\n",
      "    variable  value\n",
      "0   New york     25\n",
      "1   New york     27\n",
      "2   New york     23\n",
      "3   New york     25\n",
      "4   New york     29\n",
      "5      Paris     27\n",
      "6      Paris     22\n",
      "7      Paris     24\n",
      "8      Paris     26\n",
      "9      Paris     28\n",
      "10    London     30\n",
      "11    London     31\n",
      "12    London     33\n",
      "13    London     29\n",
      "14    London     25\n"
     ]
    }
   ],
   "source": [
    "import pandas as pd\n",
    "import numpy as np\n",
    "\n",
    "calories = {\"day1\": 420, \"day2\": 380, \"day3\": 390}\n",
    "myvar = pd.Series(calories)\n",
    "print(myvar)\n",
    "\n",
    "df = pd.DataFrame({'Newyork': [25, 27, 23, 25, 29],\n",
    "                   'Paris': [27, 22, 24, 26, 28],\n",
    "                   'London': [30, 31, 33, 29, 25]})\n",
    "\n",
    "print(df.melt())\n",
    "\n",
    "df_larger = pd.DataFrame({\n",
    "    'New york': [25, 27, 23, 25, 29],\n",
    "    'Paris': [27, 22, 24, 26, 28],\n",
    "    'London': [30, 31, 33, 29, 25]\n",
    "})\n",
    "\n",
    "print(df_larger.melt())"
   ]
  },
  {
   "cell_type": "code",
   "execution_count": 13,
   "id": "5fe0731e-8a41-4e33-aaa3-faad2b730dc1",
   "metadata": {},
   "outputs": [
    {
     "name": "stdout",
     "output_type": "stream",
     "text": [
      "   First Score  Second Score  Third Score\n",
      "0        False         False         True\n",
      "1        False         False        False\n",
      "2         True         False        False\n",
      "3        False          True        False\n",
      "   First Score  Second Score  Third Score\n",
      "0         True          True        False\n",
      "1         True          True         True\n",
      "2        False          True         True\n",
      "3         True         False         True\n",
      "   First Score  Second Score  Third Score\n",
      "0        100.0          30.0          0.0\n",
      "1         90.0          45.0         40.0\n",
      "2          0.0          56.0         80.0\n",
      "3         95.0           0.0         98.0\n"
     ]
    },
    {
     "data": {
      "text/html": [
       "<div>\n",
       "<style scoped>\n",
       "    .dataframe tbody tr th:only-of-type {\n",
       "        vertical-align: middle;\n",
       "    }\n",
       "\n",
       "    .dataframe tbody tr th {\n",
       "        vertical-align: top;\n",
       "    }\n",
       "\n",
       "    .dataframe thead th {\n",
       "        text-align: right;\n",
       "    }\n",
       "</style>\n",
       "<table border=\"1\" class=\"dataframe\">\n",
       "  <thead>\n",
       "    <tr style=\"text-align: right;\">\n",
       "      <th></th>\n",
       "      <th>First Score</th>\n",
       "      <th>Second Score</th>\n",
       "      <th>Third Score</th>\n",
       "    </tr>\n",
       "  </thead>\n",
       "  <tbody>\n",
       "    <tr>\n",
       "      <th>0</th>\n",
       "      <td>100.0</td>\n",
       "      <td>30.0</td>\n",
       "      <td>40.0</td>\n",
       "    </tr>\n",
       "    <tr>\n",
       "      <th>1</th>\n",
       "      <td>90.0</td>\n",
       "      <td>45.0</td>\n",
       "      <td>40.0</td>\n",
       "    </tr>\n",
       "    <tr>\n",
       "      <th>2</th>\n",
       "      <td>95.0</td>\n",
       "      <td>56.0</td>\n",
       "      <td>80.0</td>\n",
       "    </tr>\n",
       "    <tr>\n",
       "      <th>3</th>\n",
       "      <td>95.0</td>\n",
       "      <td>NaN</td>\n",
       "      <td>98.0</td>\n",
       "    </tr>\n",
       "  </tbody>\n",
       "</table>\n",
       "</div>"
      ],
      "text/plain": [
       "   First Score  Second Score  Third Score\n",
       "0        100.0          30.0         40.0\n",
       "1         90.0          45.0         40.0\n",
       "2         95.0          56.0         80.0\n",
       "3         95.0           NaN         98.0"
      ]
     },
     "execution_count": 13,
     "metadata": {},
     "output_type": "execute_result"
    }
   ],
   "source": [
    "import numpy as np\n",
    "import pandas as pd\n",
    "\n",
    "dict = {'First Score':[100, 90, np.nan, 95],\n",
    "        'Second Score': [30, 45, 56, np.nan],\n",
    "        'Third Score':[np.nan, 40, 80, 98]}\n",
    "\n",
    "df = pd.DataFrame(dict)\n",
    "\n",
    "print(df.isnull())\n",
    "print(df.notnull())\n",
    "print(df.fillna(0))\n",
    "\n",
    "# ✅ Replacing deprecated fillna(method=...) with modern equivalents\n",
    "df.ffill()\n",
    "df.bfill()\n"
   ]
  },
  {
   "cell_type": "code",
   "execution_count": 10,
   "id": "7f2bc205-9696-49ea-9659-c590d55f4d5e",
   "metadata": {},
   "outputs": [
    {
     "name": "stdout",
     "output_type": "stream",
     "text": [
      "✅ tips.csv has been created successfully!\n",
      "   total_bill   tip     sex smoker  day    time  size\n",
      "0       16.99  1.01  Female     No  Sun  Dinner     2\n",
      "1       10.34  1.66    Male     No  Sun  Dinner     3\n",
      "2       21.01  3.50    Male     No  Sun  Dinner     3\n",
      "3       23.68  3.31    Male     No  Sun  Dinner     2\n",
      "4       24.59  3.61  Female    Yes  Sun  Dinner     4\n"
     ]
    }
   ],
   "source": [
    "import pandas as pd\n",
    "\n",
    "# Manually create a dictionary with sample data\n",
    "data = {\n",
    "    \"total_bill\": [16.99, 10.34, 21.01, 23.68, 24.59],\n",
    "    \"tip\": [1.01, 1.66, 3.50, 3.31, 3.61],\n",
    "    \"sex\": [\"Female\", \"Male\", \"Male\", \"Male\", \"Female\"],\n",
    "    \"smoker\": [\"No\", \"No\", \"No\", \"No\", \"Yes\"],\n",
    "    \"day\": [\"Sun\", \"Sun\", \"Sun\", \"Sun\", \"Sun\"],\n",
    "    \"time\": [\"Dinner\", \"Dinner\", \"Dinner\", \"Dinner\", \"Dinner\"],\n",
    "    \"size\": [2, 3, 3, 2, 4]\n",
    "}\n",
    "\n",
    "# Convert dictionary into DataFrame\n",
    "tips = pd.DataFrame(data)\n",
    "\n",
    "# Save to CSV\n",
    "tips.to_csv(\"tips.csv\", index=False)\n",
    "\n",
    "print(\"✅ tips.csv has been created successfully!\")\n",
    "print(tips)\n"
   ]
  },
  {
   "cell_type": "code",
   "execution_count": 13,
   "id": "1e8c6d0c-937a-49ec-965a-cad0bc42f6aa",
   "metadata": {},
   "outputs": [],
   "source": [
    "import pandas as pd\n",
    "import matplotlib.pyplot as plt\n",
    "import seaborn as sns"
   ]
  },
  {
   "cell_type": "code",
   "execution_count": 14,
   "id": "bdd149d0-782a-46a9-bc17-316e3fffb233",
   "metadata": {},
   "outputs": [
    {
     "name": "stdout",
     "output_type": "stream",
     "text": [
      "   total_bill   tip     sex smoker  day    time  size\n",
      "0       16.99  1.01  Female     No  Sun  Dinner     2\n",
      "1       10.34  1.66    Male     No  Sun  Dinner     3\n",
      "2       21.01  3.50    Male     No  Sun  Dinner     3\n",
      "3       23.68  3.31    Male     No  Sun  Dinner     2\n",
      "4       24.59  3.61  Female    Yes  Sun  Dinner     4\n"
     ]
    }
   ],
   "source": [
    "data = pd.read_csv(\"tips.csv\")\n",
    "print(data.head(5))"
   ]
  },
  {
   "cell_type": "code",
   "execution_count": 15,
   "id": "b93e8a1d-6022-461b-8638-d25fafe6dad8",
   "metadata": {},
   "outputs": [
    {
     "data": {
      "image/png": "[encoded data removed]",
      "text/plain": [
       "<Figure size 640x480 with 1 Axes>"
      ]
     },
     "metadata": {},
     "output_type": "display_data"
    }
   ],
   "source": [
    "plt.scatter(data['day'], data['tip'])\n",
    "plt.title(\"Scatter Plot\")\n",
    "plt.xlabel('Day')\n",
    "plt.ylabel('Tip')\n",
    "plt.show()\n"
   ]
  },
  {
   "cell_type": "code",
   "execution_count": 16,
   "id": "45b7bfe7-2917-4393-a65a-bf243ef26e28",
   "metadata": {},
   "outputs": [
    {
     "data": {
      "image/png": "[encoded data removed]",
      "text/plain": [
       "<Figure size 640x480 with 1 Axes>"
      ]
     },
     "metadata": {},
     "output_type": "display_data"
    }
   ],
   "source": [
    "plt.plot(data['tip'], label='Tip')\n",
    "plt.plot(data['size'], label='Size')\n",
    "plt.title(\"Line Chart\")\n",
    "plt.xlabel('Index')\n",
    "plt.ylabel('Value')\n",
    "plt.legend()\n",
    "plt.show()\n"
   ]
  },
  {
   "cell_type": "code",
   "execution_count": 17,
   "id": "4e16aa1c-eaea-41b4-97eb-318bc538ba0c",
   "metadata": {},
   "outputs": [
    {
     "data": {
      "image/png": "[encoded data removed]",
      "text/plain": [
       "<Figure size 640x480 with 1 Axes>"
      ]
     },
     "metadata": {},
     "output_type": "display_data"
    }
   ],
   "source": [
    "plt.bar(data['day'], data['tip'])\n",
    "plt.title(\"Bar Chart\")\n",
    "plt.xlabel('Day')\n",
    "plt.ylabel('Tip')\n",
    "plt.show()\n"
   ]
  },
  {
   "cell_type": "code",
   "execution_count": 24,
   "id": "755e9144-4f2e-42d0-8667-97d49eed8571",
   "metadata": {},
   "outputs": [
    {
     "data": {
      "image/png": "[encoded data removed]",
      "text/plain": [
       "<Figure size 640x480 with 1 Axes>"
      ]
     },
     "metadata": {},
     "output_type": "display_data"
    }
   ],
   "source": [
    "plt.hist(data['total_bill'], bins=10, edgecolor='black')\n",
    "plt.title(\"Histogram\")\n",
    "plt.xlabel('Total Bill')\n",
    "plt.ylabel('Frequency')\n",
    "plt.show()\n"
   ]
  },
  {
   "cell_type": "code",
   "execution_count": 18,
   "id": "0c03ef82-a77d-4641-837d-84a8b26259bf",
   "metadata": {},
   "outputs": [
    {
     "data": {
      "image/png": "[encoded data removed]",
      "text/plain": [
       "<Figure size 640x480 with 1 Axes>"
      ]
     },
     "metadata": {},
     "output_type": "display_data"
    }
   ],
   "source": [
    "sns.histplot(data['total_bill'])\n",
    "plt.title(\"Histogram plot\")\n",
    "plt.show()\n"
   ]
  },
  {
   "cell_type": "code",
   "execution_count": 23,
   "id": "98ec61b0-bd75-4e6a-9ff5-5d2f31ba6764",
   "metadata": {},
   "outputs": [
    {
     "name": "stdout",
     "output_type": "stream",
     "text": [
      "               model   mpg  cyl   disp   hp  drat     wt   qsec  vs  am  gear  \\\n",
      "0          Mazda RX4  21.0    6  160.0  110  3.90  2.620  16.46   0   1     4   \n",
      "1      Mazda RX4 Wag  21.0    6  160.0  110  3.90  2.875  17.02   0   1     4   \n",
      "2         Datsun 710  22.8    4  108.0   93  3.85  2.320  18.61   1   1     4   \n",
      "3     Hornet 4 Drive  21.4    6  258.0  110  3.08  3.215  19.44   1   0     3   \n",
      "4  Hornet Sportabout  18.7    8  360.0  175  3.15  3.440  17.02   0   0     3   \n",
      "5            Valiant  18.1    6  225.0  105  2.76  3.460  20.22   1   0     3   \n",
      "6         Duster 360  14.3    8  360.0  245  3.21  3.570  15.84   0   0     3   \n",
      "7          Merc 240D  24.4    4  146.7   62  3.69  3.190  20.00   1   0     4   \n",
      "8           Merc 230  22.8    4  140.8   95  3.92  3.150  22.90   1   0     4   \n",
      "9           Merc 280  19.2    6  167.6  123  3.92  3.440  18.30   1   0     4   \n",
      "\n",
      "   carb  \n",
      "0     4  \n",
      "1     4  \n",
      "2     1  \n",
      "3     1  \n",
      "4     2  \n",
      "5     1  \n",
      "6     4  \n",
      "7     2  \n",
      "8     2  \n",
      "9     4  \n"
     ]
    },
    {
     "data": {
      "image/png": "[encoded data removed]",
      "text/plain": [
       "<Figure size 640x480 with 1 Axes>"
      ]
     },
     "metadata": {},
     "output_type": "display_data"
    },
    {
     "data": {
      "image/png": "[encoded data removed]",
      "text/plain": [
       "<Figure size 640x480 with 1 Axes>"
      ]
     },
     "metadata": {},
     "output_type": "display_data"
    },
    {
     "data": {
      "image/png": "[encoded data removed]",
      "text/plain": [
       "<Figure size 640x480 with 1 Axes>"
      ]
     },
     "metadata": {},
     "output_type": "display_data"
    },
    {
     "data": {
      "image/png": "[encoded data removed]",
      "text/plain": [
       "<Figure size 640x480 with 1 Axes>"
      ]
     },
     "metadata": {},
     "output_type": "display_data"
    },
    {
     "name": "stdout",
     "output_type": "stream",
     "text": [
      "Minimum MPG: 10.4\n",
      "Maximum MPG: 33.9\n",
      "Five-number Summary:\n",
      "0.00    10.400\n",
      "0.25    15.425\n",
      "0.50    19.200\n",
      "0.75    22.800\n",
      "1.00    33.900\n",
      "Name: mpg, dtype: float64\n"
     ]
    }
   ],
   "source": [
    "# Second case Study\n",
    "import pandas as pd\n",
    "import seaborn as sns\n",
    "import matplotlib.pyplot as plt\n",
    "\n",
    "# 📁 Load the mtcars.csv file (update the full path if needed)\n",
    "df = pd.read_csv(\"mtcars.csv\")\n",
    "\n",
    "# 🧾 Show first 10 rows to confirm\n",
    "print(df.head(10))\n",
    "\n",
    "# 1️⃣ Histogram for 'mpg'\n",
    "plt.hist(df['mpg'])\n",
    "plt.title(\"Histogram of MPG\")\n",
    "plt.xlabel(\"MPG\")\n",
    "plt.ylabel(\"Frequency\")\n",
    "plt.show()\n",
    "\n",
    "# 2️⃣ Scatter plot: weight vs mpg\n",
    "plt.scatter(x='wt', y='mpg', data=df)\n",
    "plt.title(\"Scatter Plot: Weight vs MPG\")\n",
    "plt.xlabel(\"Weight (1000 lbs)\")\n",
    "plt.ylabel(\"MPG\")\n",
    "plt.grid(True)\n",
    "plt.show()\n",
    "\n",
    "# 3️⃣ Bar plot of transmission type (am)\n",
    "df['am'].value_counts().plot(kind='bar')\n",
    "plt.title(\"Frequency of Transmission Types\")\n",
    "plt.xlabel(\"Transmission (0 = Auto, 1 = Manual)\")\n",
    "plt.ylabel(\"Count\")\n",
    "plt.xticks(rotation=0)\n",
    "plt.show()\n",
    "\n",
    "# 4️⃣ Box and Whisker Plot of 'mpg'\n",
    "sns.boxplot(x=df['mpg'])\n",
    "plt.title(\"Boxplot of MPG\")\n",
    "plt.xlabel(\"MPG\")\n",
    "plt.show()\n",
    "\n",
    "# 5️⃣ Five-number summary\n",
    "print(\"Minimum MPG:\", df['mpg'].min())\n",
    "print(\"Maximum MPG:\", df['mpg'].max())\n",
    "print(\"Five-number Summary:\")\n",
    "print(df['mpg'].quantile([0, 0.25, 0.5, 0.75, 1]))\n",
    "\n",
    "\n"
   ]
  },
  {
   "cell_type": "code",
   "execution_count": 39,
   "id": "2b0ad0a0-eb89-446d-9158-c93bda826b13",
   "metadata": {},
   "outputs": [
    {
     "name": "stdout",
     "output_type": "stream",
     "text": [
      "\n",
      "Steps after adding 1000:\n",
      "   day  steps\n",
      "0    1   5335\n",
      "1    2  10552\n",
      "2    3   8332\n",
      "3    4   5504\n",
      "4    5   6335\n",
      "5    6   8552\n",
      "6    7   9322\n",
      "7    8   6504\n",
      "8    9   9965\n",
      "9   10   8689\n",
      "\n",
      "Days with more than 7000 steps:\n",
      "   day  steps\n",
      "1    2  10552\n",
      "2    3   8332\n",
      "5    6   8552\n",
      "6    7   9322\n",
      "8    9   9965\n",
      "9   10   8689\n"
     ]
    }
   ],
   "source": [
    "# third Case study \n",
    "import pandas as pd\n",
    "\n",
    "# Step 1: Data input\n",
    "steps_tracker = {'day': [1, 2, 3, 4, 5, 6, 7, 8, 9, 10],\n",
    "                 'steps': [4335, 9552, 7332, 4504, 5335, 7552, 8322, 5504, 8965, 7689]}\n",
    "df = pd.DataFrame(steps_tracker)\n",
    "\n",
    "# Step 2: Add 1000 steps to each day\n",
    "df['steps'] += 1000\n",
    "print(\"\\nSteps after adding 1000:\")\n",
    "print(df)\n",
    "\n",
    "# Step 3: Find days with more than 7000 steps\n",
    "days_more_than_7k = df.loc[df['steps'] > 7000]\n",
    "print(\"\\nDays with more than 7000 steps:\")\n",
    "print(days_more_than_7k)\n"
   ]
  },
  {
   "cell_type": "code",
   "execution_count": 42,
   "id": "85e94342-f962-4827-8ff6-8e86ad60920f",
   "metadata": {},
   "outputs": [
    {
     "name": "stdout",
     "output_type": "stream",
     "text": [
      "Average marks of each location_type and branch:\n",
      "                           marks\n",
      "location_type branch            \n",
      "home          computer     520.5\n",
      "hostel        electronics  378.0\n",
      "              mechanical   538.0\n",
      "pg            electronics  482.0\n",
      "\n",
      "Sum, Mean, and Count of marks of each location_type and branch:\n",
      "                            sum   mean size\n",
      "                          marks  marks    0\n",
      "location_type branch                       \n",
      "home          computer     1041  520.5    2\n",
      "hostel        electronics   378  378.0    1\n",
      "              mechanical    538  538.0    1\n",
      "pg            electronics   482  482.0    1\n"
     ]
    }
   ],
   "source": [
    "# 4 th case study\n",
    "import pandas as pd  \n",
    "import numpy as np  \n",
    "\n",
    "df = pd.DataFrame({\n",
    "    'firstname': ['raju', 'ankitha', 'purvi', 'swetha', 'pallavi'],  \n",
    "    'branch': ['computer', 'electronics', 'computer', 'electronics', 'mechanical'],  \n",
    "    'location_type': ['home', 'pg', 'home', 'hostel', 'hostel'],  \n",
    "    'semester': [5, 3, 5, 3, 5],  \n",
    "    'marks': [450, 482, 591, 378, 538]\n",
    "})  \n",
    "a = pd.pivot_table(df, index=['location_type', 'branch'], values=['marks'], aggfunc='mean')  \n",
    "print(\"Average marks of each location_type and branch:\")\n",
    "print(a)  \n",
    "b = pd.pivot_table(df,\n",
    "                   index=['location_type', 'branch'],\n",
    "                   values=['marks'],\n",
    "                   aggfunc=['sum', 'mean', 'size'])  \n",
    "print(\"\\nSum, Mean, and Count of marks of each location_type and branch:\")\n",
    "print(b)"
   ]
  },
  {
   "cell_type": "code",
   "execution_count": 1,
   "id": "16224ea1-4530-42ed-afcc-badc21b39038",
   "metadata": {},
   "outputs": [
    {
     "name": "stdout",
     "output_type": "stream",
     "text": [
      "Series_A:\n",
      " 0    1\n",
      "1    2\n",
      "2    3\n",
      "3    4\n",
      "4    5\n",
      "dtype: int64\n",
      "Series_B:\n",
      " 0    1\n",
      "1    2\n",
      "2    3\n",
      "3    4\n",
      "4    5\n",
      "dtype: int64\n",
      "Common Elements:\n",
      " 0    1\n",
      "1    2\n",
      "2    3\n",
      "3    4\n",
      "4    5\n",
      "dtype: int64\n",
      "Not Common Elements:\n",
      " Series([], dtype: object)\n",
      "Smallest element: 1\n",
      "Largest element: 5\n",
      "Sum: 15\n",
      "Average: 3.0\n",
      "Median: 3.0\n",
      "Mode: [1, 2, 3, 4, 5]\n",
      "Standard deviation: 1.5811388300841898\n",
      "count    5.000000\n",
      "mean     3.000000\n",
      "std      1.581139\n",
      "min      1.000000\n",
      "25%      2.000000\n",
      "50%      3.000000\n",
      "75%      4.000000\n",
      "max      5.000000\n",
      "dtype: float64\n",
      "<class 'pandas.core.series.Series'>\n",
      "RangeIndex: 5 entries, 0 to 4\n",
      "Series name: None\n",
      "Non-Null Count  Dtype\n",
      "--------------  -----\n",
      "5 non-null      int64\n",
      "dtypes: int64(1)\n",
      "memory usage: 172.0 bytes\n",
      "None\n"
     ]
    }
   ],
   "source": [
    "import pandas as pd\n",
    "Series_A=pd.Series([1,2,3,4,5])\n",
    "Series_B=pd.Series([1,2,3,4,5])\n",
    "print(\"Series_A:\\n\",Series_A)\n",
    "print(\"Series_B:\\n\",Series_B)\n",
    "common_element=pd.Series(list(set(Series_A)&set(Series_B)))\n",
    "print(\"Common Elements:\\n\",common_element)\n",
    "not_common_element=pd.Series(list(set(Series_A)^set(Series_B)))\n",
    "print(\"Not Common Elements:\\n\",not_common_element)\n",
    "small=Series_A.min()\n",
    "print(\"Smallest element:\",small)\n",
    "largest=Series_A.max()\n",
    "print(\"Largest element:\",largest)\n",
    "sum=Series_A.sum()\n",
    "print(\"Sum:\",sum)\n",
    "print(\"Average:\",Series_A.mean())\n",
    "print(\"Median:\",Series_A.median())\n",
    "print(\"Mode:\",Series_A.mode().tolist())\n",
    "print(\"Standard deviation:\",Series_A.std())\n",
    "print(Series_A.describe())\n",
    "print(Series_A.info())"
   ]
  },
  {
   "cell_type": "code",
   "execution_count": 25,
   "id": "6b18d523-302d-44af-8a53-7bb325c88d34",
   "metadata": {},
   "outputs": [],
   "source": [
    "# first qustion of internals\n",
    "import pandas as pd\n",
    "import numpy as np\n",
    "import matplotlib.pyplot as plt\n",
    "import seaborn as sns"
   ]
  },
  {
   "cell_type": "code",
   "execution_count": 26,
   "id": "64b3bece-1b27-4018-a896-9c9b4d08760f",
   "metadata": {},
   "outputs": [
    {
     "name": "stdout",
     "output_type": "stream",
     "text": [
      "               model   mpg  cyl   disp   hp  drat     wt   qsec  vs  am  gear  \\\n",
      "0          Mazda RX4  21.0    6  160.0  110  3.90  2.620  16.46   0   1     4   \n",
      "1      Mazda RX4 Wag  21.0    6  160.0  110  3.90  2.875  17.02   0   1     4   \n",
      "2         Datsun 710  22.8    4  108.0   93  3.85  2.320  18.61   1   1     4   \n",
      "3     Hornet 4 Drive  21.4    6  258.0  110  3.08  3.215  19.44   1   0     3   \n",
      "4  Hornet Sportabout  18.7    8  360.0  175  3.15  3.440  17.02   0   0     3   \n",
      "5            Valiant  18.1    6  225.0  105  2.76  3.460  20.22   1   0     3   \n",
      "6         Duster 360  14.3    8  360.0  245  3.21  3.570  15.84   0   0     3   \n",
      "7          Merc 240D  24.4    4  146.7   62  3.69  3.190  20.00   1   0     4   \n",
      "8           Merc 230  22.8    4  140.8   95  3.92  3.150  22.90   1   0     4   \n",
      "9           Merc 280  19.2    6  167.6  123  3.92  3.440  18.30   1   0     4   \n",
      "\n",
      "   carb  \n",
      "0     4  \n",
      "1     4  \n",
      "2     1  \n",
      "3     1  \n",
      "4     2  \n",
      "5     1  \n",
      "6     4  \n",
      "7     2  \n",
      "8     2  \n",
      "9     4  \n",
      "displaying the rows and coloumns: (32, 12)\n",
      "<class 'pandas.core.frame.DataFrame'>\n",
      "RangeIndex: 32 entries, 0 to 31\n",
      "Data columns (total 12 columns):\n",
      " #   Column  Non-Null Count  Dtype  \n",
      "---  ------  --------------  -----  \n",
      " 0   model   32 non-null     object \n",
      " 1   mpg     32 non-null     float64\n",
      " 2   cyl     32 non-null     int64  \n",
      " 3   disp    32 non-null     float64\n",
      " 4   hp      32 non-null     int64  \n",
      " 5   drat    32 non-null     float64\n",
      " 6   wt      32 non-null     float64\n",
      " 7   qsec    32 non-null     float64\n",
      " 8   vs      32 non-null     int64  \n",
      " 9   am      32 non-null     int64  \n",
      " 10  gear    32 non-null     int64  \n",
      " 11  carb    32 non-null     int64  \n",
      "dtypes: float64(5), int64(6), object(1)\n",
      "memory usage: 3.1+ KB\n",
      "None\n"
     ]
    }
   ],
   "source": [
    "data=pd.read_csv('mtcars.csv')\n",
    "print(data.head(10))\n",
    "print(\"displaying the rows and coloumns:\",data.shape)\n",
    "print(data.info())"
   ]
  },
  {
   "cell_type": "code",
   "execution_count": 27,
   "id": "9417f9d8-fe63-441c-bd2f-63b175b4c969",
   "metadata": {},
   "outputs": [
    {
     "data": {
      "image/png": "[encoded data removed]",
      "text/plain": [
       "<Figure size 640x480 with 1 Axes>"
      ]
     },
     "metadata": {},
     "output_type": "display_data"
    }
   ],
   "source": [
    "plt.hist(data['mpg'],color='red')\n",
    "plt.title(\"Histogram plot\")\n",
    "plt.show()"
   ]
  },
  {
   "cell_type": "code",
   "execution_count": 28,
   "id": "8889c100-3f90-42c0-bc99-729087d3e4df",
   "metadata": {},
   "outputs": [
    {
     "data": {
      "image/png": "[encoded data removed]",
      "text/plain": [
       "<Figure size 640x480 with 1 Axes>"
      ]
     },
     "metadata": {},
     "output_type": "display_data"
    }
   ],
   "source": [
    "plt.scatter(data['wt'],data['mpg'],color='blue')\n",
    "plt.title(\"Scatter plot\")\n",
    "plt.xlabel('wt')\n",
    "plt.ylabel('mpg')\n",
    "plt.show()"
   ]
  },
  {
   "cell_type": "code",
   "execution_count": 29,
   "id": "1c4c3f2c-664c-4adc-a785-3b44bcdee2b9",
   "metadata": {},
   "outputs": [
    {
     "data": {
      "image/png": "[encoded data removed]",
      "text/plain": [
       "<Figure size 640x480 with 1 Axes>"
      ]
     },
     "metadata": {},
     "output_type": "display_data"
    }
   ],
   "source": [
    "plt.bar(data['mpg'],data['model'],color='blue')\n",
    "plt.title(\"Bar plot\")\n",
    "plt.xlabel('mpg')\n",
    "plt.ylabel('model')\n",
    "plt.show()"
   ]
  },
  {
   "cell_type": "code",
   "execution_count": 30,
   "id": "5ec1912d-ae57-4091-a54a-b6cdbd1f586a",
   "metadata": {},
   "outputs": [
    {
     "data": {
      "image/png": "[encoded data removed]",
      "text/plain": [
       "<Figure size 640x480 with 1 Axes>"
      ]
     },
     "metadata": {},
     "output_type": "display_data"
    }
   ],
   "source": [
    "sns.boxplot(data['mpg'])\n",
    "plt.title(\"Box plot\")\n",
    "plt.show()"
   ]
  },
  {
   "cell_type": "code",
   "execution_count": 31,
   "id": "0accfda0-c9b0-4e4b-9c24-d2994b08d81f",
   "metadata": {},
   "outputs": [
    {
     "name": "stdout",
     "output_type": "stream",
     "text": [
      "   sepal_length  sepal_width  petal_length  petal_width species\n",
      "0           5.1          3.5           1.4          0.2  setosa\n",
      "1           4.9          3.0           1.4          0.2  setosa\n",
      "2           4.7          3.2           1.3          0.2  setosa\n",
      "3           4.6          3.1           1.5          0.2  setosa\n",
      "4           5.0          3.6           1.4          0.2  setosa\n"
     ]
    }
   ],
   "source": [
    "# second question of internals\n",
    "import pandas as pd\n",
    "import numpy as np\n",
    "import matplotlib.pyplot as plt\n",
    "import seaborn as sns\n",
    "data=pd.read_csv('iris (1).csv')\n",
    "print(data.head(5))"
   ]
  },
  {
   "cell_type": "code",
   "execution_count": 32,
   "id": "a7c13602-2fb6-498b-8b3c-a54403aa41a7",
   "metadata": {},
   "outputs": [
    {
     "name": "stdout",
     "output_type": "stream",
     "text": [
      "the datasets of columns and rows: (150, 5)\n"
     ]
    }
   ],
   "source": [
    "print(\"the datasets of columns and rows:\",data.shape)"
   ]
  },
  {
   "cell_type": "code",
   "execution_count": 33,
   "id": "f2599602-9cec-4a33-8a13-f35b76ba1c1b",
   "metadata": {},
   "outputs": [
    {
     "name": "stdout",
     "output_type": "stream",
     "text": [
      "the size of the iris data sets: 750\n"
     ]
    }
   ],
   "source": [
    "print(\"the size of the iris data sets:\",data.size)"
   ]
  },
  {
   "cell_type": "code",
   "execution_count": 34,
   "id": "49bbb9c8-c34c-496b-9a27-c47f07542d46",
   "metadata": {},
   "outputs": [
    {
     "data": {
      "image/png": "[encoded data removed]",
      "text/plain": [
       "<Figure size 640x480 with 1 Axes>"
      ]
     },
     "metadata": {},
     "output_type": "display_data"
    }
   ],
   "source": [
    "plt.scatter(data['petal_length'],data['petal_width'],color='blue')\n",
    "plt.title(\"Scatter plot\")\n",
    "plt.xlabel('petal_width')\n",
    "plt.ylabel('petal_length')\n",
    "plt.show()"
   ]
  },
  {
   "cell_type": "code",
   "execution_count": 35,
   "id": "61e5e650-71c0-4310-a1b7-7d05c8445fd9",
   "metadata": {},
   "outputs": [
    {
     "name": "stdout",
     "output_type": "stream",
     "text": [
      "finding the missing values:\n",
      "      sepal_length  sepal_width  petal_length  petal_width  species\n",
      "0           False        False         False        False    False\n",
      "1           False        False         False        False    False\n",
      "2           False        False         False        False    False\n",
      "3           False        False         False        False    False\n",
      "4           False        False         False        False    False\n",
      "..            ...          ...           ...          ...      ...\n",
      "145         False        False         False        False    False\n",
      "146         False        False         False        False    False\n",
      "147         False        False         False        False    False\n",
      "148         False        False         False        False    False\n",
      "149         False        False         False        False    False\n",
      "\n",
      "[150 rows x 5 columns]\n",
      "finding the  not missing values:\n",
      "      sepal_length  sepal_width  petal_length  petal_width  species\n",
      "0            True         True          True         True     True\n",
      "1            True         True          True         True     True\n",
      "2            True         True          True         True     True\n",
      "3            True         True          True         True     True\n",
      "4            True         True          True         True     True\n",
      "..            ...          ...           ...          ...      ...\n",
      "145          True         True          True         True     True\n",
      "146          True         True          True         True     True\n",
      "147          True         True          True         True     True\n",
      "148          True         True          True         True     True\n",
      "149          True         True          True         True     True\n",
      "\n",
      "[150 rows x 5 columns]\n"
     ]
    }
   ],
   "source": [
    "print(\"finding the missing values:\\n\",data.isnull())\n",
    "print(\"finding the  not missing values:\\n\",data.notnull())"
   ]
  },
  {
   "cell_type": "code",
   "execution_count": 36,
   "id": "25f73d1c-f59d-446e-bcbd-bfadd636f111",
   "metadata": {},
   "outputs": [
    {
     "name": "stdout",
     "output_type": "stream",
     "text": [
      "sumarize of data sets using the describing        sepal_length  sepal_width  petal_length  petal_width\n",
      "count    150.000000   150.000000    150.000000   150.000000\n",
      "mean       5.843333     3.054000      3.758667     1.198667\n",
      "std        0.828066     0.433594      1.764420     0.763161\n",
      "min        4.300000     2.000000      1.000000     0.100000\n",
      "25%        5.100000     2.800000      1.600000     0.300000\n",
      "50%        5.800000     3.000000      4.350000     1.300000\n",
      "75%        6.400000     3.300000      5.100000     1.800000\n",
      "max        7.900000     4.400000      6.900000     2.500000\n"
     ]
    }
   ],
   "source": [
    "print(\"sumarize of data sets using the describing\",data.describe())"
   ]
  },
  {
   "cell_type": "code",
   "execution_count": 37,
   "id": "288aad3e-1c42-4b16-aa00-7b37ed99cfda",
   "metadata": {},
   "outputs": [
    {
     "data": {
      "image/png": "[encoded data removed]",
      "text/plain": [
       "<Figure size 640x480 with 1 Axes>"
      ]
     },
     "metadata": {},
     "output_type": "display_data"
    }
   ],
   "source": [
    "sns.countplot(data['species'])\n",
    "plt.title(\"Count plot\")\n",
    "plt.show()"
   ]
  },
  {
   "cell_type": "code",
   "execution_count": 38,
   "id": "ad8bdf7b-4624-4bc9-b737-365377073724",
   "metadata": {},
   "outputs": [
    {
     "name": "stdout",
     "output_type": "stream",
     "text": [
      "species\n",
      "setosa        50\n",
      "versicolor    50\n",
      "virginica     50\n",
      "Name: count, dtype: int64\n"
     ]
    }
   ],
   "source": [
    "print(data['species'].value_counts())"
   ]
  },
  {
   "cell_type": "code",
   "execution_count": 39,
   "id": "5898a912-5235-423c-bee0-7facad9293ad",
   "metadata": {},
   "outputs": [
    {
     "data": {
      "image/png": "[encoded data removed]",
      "text/plain": [
       "<Figure size 640x480 with 1 Axes>"
      ]
     },
     "metadata": {},
     "output_type": "display_data"
    }
   ],
   "source": [
    "plt.boxplot(data['sepal_length'])\n",
    "plt.title(\"box plot\")\n",
    "plt.show()"
   ]
  },
  {
   "cell_type": "code",
   "execution_count": 40,
   "id": "f24d9862-f1d3-4b55-9f44-0b9a1cc2f506",
   "metadata": {},
   "outputs": [
    {
     "data": {
      "image/png": "[encoded data removed]",
      "text/plain": [
       "<Figure size 640x480 with 1 Axes>"
      ]
     },
     "metadata": {},
     "output_type": "display_data"
    }
   ],
   "source": [
    "plt.scatter(data['sepal_length'],data['sepal_width'],color='red')\n",
    "plt.title(\"scatter plot\")\n",
    "plt.xlabel('sepal_width')\n",
    "plt.ylabel('sepal_length')\n",
    "plt.show()"
   ]
  },
  {
   "cell_type": "code",
   "execution_count": 41,
   "id": "e1fa9e8b-4f75-4b14-b091-01fc1aa6cf7f",
   "metadata": {},
   "outputs": [
    {
     "name": "stdout",
     "output_type": "stream",
     "text": [
      "<class 'pandas.core.frame.DataFrame'>\n",
      "RangeIndex: 150 entries, 0 to 149\n",
      "Data columns (total 5 columns):\n",
      " #   Column        Non-Null Count  Dtype  \n",
      "---  ------        --------------  -----  \n",
      " 0   sepal_length  150 non-null    float64\n",
      " 1   sepal_width   150 non-null    float64\n",
      " 2   petal_length  150 non-null    float64\n",
      " 3   petal_width   150 non-null    float64\n",
      " 4   species       150 non-null    object \n",
      "dtypes: float64(4), object(1)\n",
      "memory usage: 6.0+ KB\n",
      "printing the all information:\n",
      " None\n",
      "some more information about the data\n",
      "\n",
      "the melt function for all data          variable      value\n",
      "0    sepal_length        5.1\n",
      "1    sepal_length        4.9\n",
      "2    sepal_length        4.7\n",
      "3    sepal_length        4.6\n",
      "4    sepal_length        5.0\n",
      "..            ...        ...\n",
      "745       species  virginica\n",
      "746       species  virginica\n",
      "747       species  virginica\n",
      "748       species  virginica\n",
      "749       species  virginica\n",
      "\n",
      "[750 rows x 2 columns]\n",
      "the type of data <class 'pandas.core.frame.DataFrame'>\n",
      "the specific column in data object\n",
      "the size of the data 750\n"
     ]
    }
   ],
   "source": [
    "print(\"printing the all information:\\n\",data.info())\n",
    "print(\"some more information about the data\\n\",)\n",
    "print(\"the melt function for all data\",data.melt())\n",
    "print(\"the type of data\",type(data))\n",
    "print(\"the specific column in data\",data['species'].dtype)\n",
    "print(\"the size of the data\",data.size)"
   ]
  },
  {
   "cell_type": "code",
   "execution_count": 42,
   "id": "a1acf468-b4b2-4df9-b8cf-6aa13b5f3f7a",
   "metadata": {},
   "outputs": [
    {
     "data": {
      "image/png": "[encoded data removed]",
      "text/plain": [
       "<Figure size 640x480 with 1 Axes>"
      ]
     },
     "metadata": {},
     "output_type": "display_data"
    }
   ],
   "source": [
    "plt.bar(data['species'],data['petal_width'],color='red')\n",
    "plt.title(\"Bar graph\")\n",
    "plt.xlabel('petal_width')\n",
    "plt.ylabel('species')\n",
    "plt.show()"
   ]
  },
  {
   "cell_type": "code",
   "execution_count": 44,
   "id": "be04e79c-8855-4d6e-afb6-19a3d51ccab1",
   "metadata": {},
   "outputs": [
    {
     "name": "stdout",
     "output_type": "stream",
     "text": [
      "✅ employees.csv has been created successfully!\n",
      "      Name   Age  Gender Department\n",
      "0    Alice  25.0  Female         HR\n",
      "1      Bob  30.0     NaN         IT\n",
      "2  Charlie   NaN    Male        NaN\n",
      "3    David  28.0     NaN    Finance\n",
      "4      Eve  35.0  Female      Sales\n",
      "5    Frank  40.0     NaN  Marketing\n",
      "6    Grace   NaN  Female        NaN\n",
      "7   Hannah  29.0  Female    Finance\n",
      "8      Ian  32.0    Male         IT\n",
      "9     Jack   NaN    Male         HR\n"
     ]
    }
   ],
   "source": [
    "import pandas as pd\n",
    "import numpy as np\n",
    "\n",
    "# Create sample employee data (25 rows)\n",
    "data = {\n",
    "    \"Name\": [\"Alice\", \"Bob\", \"Charlie\", \"David\", \"Eve\", \"Frank\", \"Grace\",\n",
    "             \"Hannah\", \"Ian\", \"Jack\", \"Kathy\", \"Leo\", \"Mona\", \"Nina\", \"Oscar\",\n",
    "             \"Paul\", \"Queen\", \"Ray\", \"Sophia\", \"Tom\", \"Uma\", \"Victor\", \"Wendy\", \"Xavier\", \"Yara\"],\n",
    "    \"Age\": [25, 30, np.nan, 28, 35, 40, np.nan, 29, 32, np.nan,\n",
    "            26, 38, 31, np.nan, 45, 34, 27, np.nan, 29, 41, np.nan, 36, 33, np.nan, 30],\n",
    "    \"Gender\": [\"Female\", np.nan, \"Male\", np.nan, \"Female\", np.nan, \"Female\",\n",
    "               \"Female\", \"Male\", \"Male\", np.nan, \"Male\", \"Female\", \"Female\", np.nan,\n",
    "               \"Male\", \"Female\", np.nan, \"Female\", \"Male\", \"Female\", np.nan, \"Female\", \"Male\", np.nan],\n",
    "    \"Department\": [\"HR\", \"IT\", np.nan, \"Finance\", \"Sales\", \"Marketing\", np.nan,\n",
    "                   \"Finance\", \"IT\", \"HR\", \"Sales\", \"Finance\", np.nan, \"Marketing\", \"HR\",\n",
    "                   \"IT\", np.nan, \"Finance\", \"Sales\", \"IT\", \"Marketing\", \"HR\", \"Finance\", np.nan, \"Sales\"]\n",
    "}\n",
    "\n",
    "# Convert dictionary to DataFrame\n",
    "employees = pd.DataFrame(data)\n",
    "\n",
    "# Save to CSV file\n",
    "employees.to_csv(\"employees.csv\", index=False)\n",
    "\n",
    "print(\"✅ employees.csv has been created successfully!\")\n",
    "\n",
    "# Load and show first 10 rows\n",
    "data = pd.read_csv(\"employees.csv\")\n",
    "print(data.head(10))\n"
   ]
  },
  {
   "cell_type": "code",
   "execution_count": 45,
   "id": "cc85a7ab-558f-4eab-997b-64aaf5a187c8",
   "metadata": {},
   "outputs": [
    {
     "name": "stdout",
     "output_type": "stream",
     "text": [
      "<class 'pandas.core.frame.DataFrame'>\n",
      "RangeIndex: 25 entries, 0 to 24\n",
      "Data columns (total 4 columns):\n",
      " #   Column      Non-Null Count  Dtype  \n",
      "---  ------      --------------  -----  \n",
      " 0   Name        25 non-null     object \n",
      " 1   Age         18 non-null     float64\n",
      " 2   Gender      17 non-null     object \n",
      " 3   Department  20 non-null     object \n",
      "dtypes: float64(1), object(3)\n",
      "memory usage: 932.0+ bytes\n",
      "None\n",
      "(25, 4)\n",
      "min 25.0\n",
      "max: 45.0\n",
      "<class 'pandas.core.frame.DataFrame'>\n",
      "25\n",
      "size of data 100\n",
      "no of dimension are: 2\n",
      "data type of age float64\n",
      "data transpose of name                 0     1        2        3       4          5       6   \\\n",
      "Name         Alice   Bob  Charlie    David     Eve      Frank   Grace   \n",
      "Age           25.0  30.0      NaN     28.0    35.0       40.0     NaN   \n",
      "Gender      Female   NaN     Male      NaN  Female        NaN  Female   \n",
      "Department      HR    IT      NaN  Finance   Sales  Marketing     NaN   \n",
      "\n",
      "                 7     8     9   ...    15      16       17      18    19  \\\n",
      "Name         Hannah   Ian  Jack  ...  Paul   Queen      Ray  Sophia   Tom   \n",
      "Age            29.0  32.0   NaN  ...  34.0    27.0      NaN    29.0  41.0   \n",
      "Gender       Female  Male  Male  ...  Male  Female      NaN  Female  Male   \n",
      "Department  Finance    IT    HR  ...    IT     NaN  Finance   Sales    IT   \n",
      "\n",
      "                   20      21       22      23     24  \n",
      "Name              Uma  Victor    Wendy  Xavier   Yara  \n",
      "Age               NaN    36.0     33.0     NaN   30.0  \n",
      "Gender         Female     NaN   Female    Male    NaN  \n",
      "Department  Marketing      HR  Finance     NaN  Sales  \n",
      "\n",
      "[4 rows x 25 columns]\n",
      "             Age\n",
      "count  18.000000\n",
      "mean   32.722222\n",
      "std     5.549834\n",
      "min    25.000000\n",
      "25%    29.000000\n",
      "50%    31.500000\n",
      "75%    35.750000\n",
      "max    45.000000\n",
      "sum of age 589.0\n",
      "Average of age: 32.72222222222222\n",
      "wide to large:\n",
      "       variable      value\n",
      "0         Name      Alice\n",
      "1         Name        Bob\n",
      "2         Name    Charlie\n",
      "3         Name      David\n",
      "4         Name        Eve\n",
      "..         ...        ...\n",
      "95  Department  Marketing\n",
      "96  Department         HR\n",
      "97  Department    Finance\n",
      "98  Department        NaN\n",
      "99  Department      Sales\n",
      "\n",
      "[100 rows x 2 columns]\n"
     ]
    }
   ],
   "source": [
    "print(data.info())\n",
    "print(data.shape)\n",
    "print(\"min\",data['Age'].min())\n",
    "print(\"max:\",data['Age'].max())\n",
    "print(type(data))\n",
    "print(len(data))\n",
    "print(\"size of data\",data.size)\n",
    "print(\"no of dimension are:\",data.ndim)\n",
    "print(\"data type of age\",data['Age'].dtype)\n",
    "print(\"data transpose of name\",data.T)\n",
    "print(data.describe())\n",
    "print(\"sum of age\",data['Age'].sum())\n",
    "print(\"Average of age:\",data['Age'].mean())\n",
    "print(\"wide to large:\\n\",data.melt())"
   ]
  },
  {
   "cell_type": "code",
   "execution_count": 46,
   "id": "3298f731-f6cf-4ab1-a912-c25513413634",
   "metadata": {},
   "outputs": [
    {
     "name": "stdout",
     "output_type": "stream",
     "text": [
      "['Name', 'Age', 'Gender', 'Department']\n"
     ]
    }
   ],
   "source": [
    "print(data.columns.tolist())"
   ]
  },
  {
   "cell_type": "code",
   "execution_count": 48,
   "id": "eef9d24b-a347-46d8-a62b-d44ec7778505",
   "metadata": {},
   "outputs": [],
   "source": [
    "import pandas as pd\n",
    "import matplotlib.pyplot as plt\n",
    "import seaborn as sns"
   ]
  },
  {
   "cell_type": "code",
   "execution_count": 49,
   "id": "2574497b-3324-4ea9-a9d6-4d782c23f0b2",
   "metadata": {},
   "outputs": [
    {
     "data": {
      "image/png": "[encoded data removed]",
      "text/plain": [
       "<Figure size 640x480 with 1 Axes>"
      ]
     },
     "metadata": {},
     "output_type": "display_data"
    }
   ],
   "source": [
    "df = pd.read_csv(\"employees.csv\")\n",
    "\n",
    "# 1️⃣ Histogram of Age\n",
    "plt.hist(df['Age'].dropna())\n",
    "plt.title(\"Age Distribution\")\n",
    "plt.xlabel(\"Age\")\n",
    "plt.ylabel(\"Count\")\n",
    "plt.show()"
   ]
  },
  {
   "cell_type": "code",
   "execution_count": 50,
   "id": "515289e1-3d7e-4da6-b117-495f78b0d252",
   "metadata": {},
   "outputs": [
    {
     "data": {
      "image/png": "[encoded data removed]",
      "text/plain": [
       "<Figure size 640x480 with 1 Axes>"
      ]
     },
     "metadata": {},
     "output_type": "display_data"
    }
   ],
   "source": [
    "\n",
    "# 2️⃣ Scatter plot: Index vs Age\n",
    "plt.scatter(df.index, df['Age'])\n",
    "plt.title(\"Employee Index vs Age\")\n",
    "plt.xlabel(\"Index\")\n",
    "plt.ylabel(\"Age\")\n",
    "plt.show()"
   ]
  },
  {
   "cell_type": "code",
   "execution_count": 51,
   "id": "54877ad7-f62a-4730-a4b0-cc16792e26df",
   "metadata": {},
   "outputs": [
    {
     "data": {
      "image/png": "[encoded data removed]",
      "text/plain": [
       "<Figure size 640x480 with 1 Axes>"
      ]
     },
     "metadata": {},
     "output_type": "display_data"
    }
   ],
   "source": [
    "# 3️⃣ Bar plot of Department\n",
    "df['Department'].value_counts().plot(kind='bar')\n",
    "plt.title(\"Department Count\")\n",
    "plt.xlabel(\"Department\")\n",
    "plt.ylabel(\"Employees\")\n",
    "plt.show()"
   ]
  },
  {
   "cell_type": "code",
   "execution_count": 52,
   "id": "3635ee7e-552d-44ed-a161-55feb2f2f7ab",
   "metadata": {},
   "outputs": [
    {
     "data": {
      "image/png": "[encoded data removed]",
      "text/plain": [
       "<Figure size 640x480 with 1 Axes>"
      ]
     },
     "metadata": {},
     "output_type": "display_data"
    }
   ],
   "source": [
    "# 4️⃣ Boxplot of Age\n",
    "sns.boxplot(x=df['Age'])\n",
    "plt.title(\"Boxplot of Age\")\n",
    "plt.show()"
   ]
  },
  {
   "cell_type": "code",
   "execution_count": 53,
   "id": "b7f2ba8f-b6a9-4d07-948e-638cc194a72c",
   "metadata": {},
   "outputs": [
    {
     "data": {
      "image/png": "[encoded data removed]",
      "text/plain": [
       "<Figure size 640x480 with 1 Axes>"
      ]
     },
     "metadata": {},
     "output_type": "display_data"
    }
   ],
   "source": [
    "\n",
    "# 5️⃣ Pie chart of Gender\n",
    "df['Gender'].value_counts().plot(kind='pie', autopct='%1.0f%%')\n",
    "plt.title(\"Gender Distribution\")\n",
    "plt.show()"
   ]
  },
  {
   "cell_type": "code",
   "execution_count": 54,
   "id": "d65a28db-bd5f-4945-98e9-feaa776bc9f5",
   "metadata": {},
   "outputs": [
    {
     "name": "stdout",
     "output_type": "stream",
     "text": [
      "Five-number Summary of Age:\n",
      "min    25.00\n",
      "25%    29.00\n",
      "50%    31.50\n",
      "75%    35.75\n",
      "max    45.00\n",
      "Name: Age, dtype: float64\n"
     ]
    }
   ],
   "source": [
    "# 6️⃣ Five-number summary of Age\n",
    "print(\"Five-number Summary of Age:\")\n",
    "print(df['Age'].describe()[['min','25%','50%','75%','max']])"
   ]
  },
  {
   "cell_type": "code",
   "execution_count": 55,
   "id": "d6480eb0-c633-409b-bcae-d12435ad2160",
   "metadata": {},
   "outputs": [
    {
     "data": {
      "image/png": "[encoded data removed]",
      "text/plain": [
       "<Figure size 640x480 with 1 Axes>"
      ]
     },
     "metadata": {},
     "output_type": "display_data"
    }
   ],
   "source": [
    "sns.violinplot(x=\"Gender\", y=\"Age\", data=df)\n",
    "plt.title(\"Age Distribution by Gender\")\n",
    "plt.show()"
   ]
  },
  {
   "cell_type": "code",
   "execution_count": 56,
   "id": "389fd2fe-281e-4121-a2f6-2332f11c6ce2",
   "metadata": {},
   "outputs": [
    {
     "data": {
      "image/png": "[encoded data removed]",
      "text/plain": [
       "<Figure size 640x480 with 1 Axes>"
      ]
     },
     "metadata": {},
     "output_type": "display_data"
    }
   ],
   "source": [
    "# 2️⃣ Heatmap: Missing Values\n",
    "sns.heatmap(df.isnull(), cbar=False, cmap=\"viridis\")\n",
    "plt.title(\"Missing Values Heatmap\")\n",
    "plt.show()"
   ]
  },
  {
   "cell_type": "code",
   "execution_count": 57,
   "id": "f44a6b37-dab6-40bf-9183-459b7e9541ad",
   "metadata": {},
   "outputs": [
    {
     "data": {
      "image/png": "[encoded data removed]",
      "text/plain": [
       "<Figure size 640x480 with 1 Axes>"
      ]
     },
     "metadata": {},
     "output_type": "display_data"
    }
   ],
   "source": [
    "sns.countplot(x=\"Department\", data=df)\n",
    "plt.title(\"Department Count\")\n",
    "plt.show()"
   ]
  },
  {
   "cell_type": "code",
   "execution_count": 58,
   "id": "9ba8fb0f-adfb-4227-96a0-80170ba1b0b8",
   "metadata": {},
   "outputs": [
    {
     "data": {
      "image/png": "[encoded data removed]",
      "text/plain": [
       "<Figure size 640x480 with 1 Axes>"
      ]
     },
     "metadata": {},
     "output_type": "display_data"
    }
   ],
   "source": [
    "plt.plot(df.index, df['Age'])\n",
    "plt.title(\"Line Plot: Employee Age\")\n",
    "plt.xlabel(\"Employee Index\")\n",
    "plt.ylabel(\"Age\")\n",
    "plt.show()"
   ]
  },
  {
   "cell_type": "code",
   "execution_count": 59,
   "id": "e7f6b4e8-2cfa-415a-a1a3-898348dc8696",
   "metadata": {},
   "outputs": [
    {
     "name": "stdout",
     "output_type": "stream",
     "text": [
      "  variable    value\n",
      "0     Name    Alice\n",
      "1     Name      Bob\n",
      "2     Name  Charlie\n",
      "3     Name    David\n",
      "4     Name      Eve\n",
      "5     Name    Frank\n",
      "6     Name    Grace\n",
      "7     Name   Hannah\n",
      "8     Name      Ian\n",
      "9     Name     Jack\n"
     ]
    }
   ],
   "source": [
    "# Simple melt\n",
    "melted = df.melt()\n",
    "\n",
    "print(melted.head(10))"
   ]
  },
  {
   "cell_type": "code",
   "execution_count": 60,
   "id": "3421f84b-b1e9-4cc9-bce7-6410c122be83",
   "metadata": {},
   "outputs": [
    {
     "name": "stdout",
     "output_type": "stream",
     "text": [
      "Pivot Table (Average Age):\n",
      "Gender      Female       Male\n",
      "Department                   \n",
      "Finance       31.0  38.000000\n",
      "HR            25.0        NaN\n",
      "IT             NaN  35.666667\n",
      "Sales         32.0        NaN\n"
     ]
    }
   ],
   "source": [
    "# Pivot table: average age by department and gender\n",
    "pivot = pd.pivot_table(df, values=\"Age\", index=\"Department\", columns=\"Gender\", aggfunc=\"mean\")\n",
    "\n",
    "print(\"Pivot Table (Average Age):\")\n",
    "print(pivot)\n"
   ]
  },
  {
   "cell_type": "code",
   "execution_count": 75,
   "id": "171e111f-59dd-4ea0-b83b-3f321c0b89f6",
   "metadata": {},
   "outputs": [
    {
     "name": "stdout",
     "output_type": "stream",
     "text": [
      "     Maths  English  Science  Social\n",
      "sum     26       12       19      21\n",
      "min      8        3        5       3\n",
      "max      9        5        8       9\n",
      "15\n",
      "19\n"
     ]
    }
   ],
   "source": [
    "#1 code from lab manuall\n",
    "import pandas as pd \n",
    "import numpy as np\n",
    "data=pd.DataFrame([[9,4,8,9],\n",
    "                 [8,3,5,9],\n",
    "                 [9,5,6,3]],\n",
    "                  columns=['Maths','English','Science','Social'])\n",
    "print(data.agg(['sum','min','max']))\n",
    "m=lambda x:x+10\n",
    "print(m(5))\n",
    "list(map(lambda x:x*x,data['Maths']))\n",
    "a=list(filter(lambda x:x%2,data['Science']))\n",
    "from functools import reduce\n",
    "b=reduce(lambda x,y:x+y,data['Science'])\n",
    "print(b)\n"
   ]
  },
  {
   "cell_type": "code",
   "execution_count": 17,
   "id": "3ad636f6-ea91-4342-a992-35bb1419d970",
   "metadata": {},
   "outputs": [],
   "source": [
    "import warnings\n",
    "warnings.filterwarnings('ignore')"
   ]
  },
  {
   "cell_type": "code",
   "execution_count": 18,
   "id": "2699eb58-37f3-4f54-91d0-4fabf5e88245",
   "metadata": {},
   "outputs": [
    {
     "data": {
      "text/html": [
       "<div>\n",
       "<style scoped>\n",
       "    .dataframe tbody tr th:only-of-type {\n",
       "        vertical-align: middle;\n",
       "    }\n",
       "\n",
       "    .dataframe tbody tr th {\n",
       "        vertical-align: top;\n",
       "    }\n",
       "\n",
       "    .dataframe thead th {\n",
       "        text-align: right;\n",
       "    }\n",
       "</style>\n",
       "<table border=\"1\" class=\"dataframe\">\n",
       "  <thead>\n",
       "    <tr style=\"text-align: right;\">\n",
       "      <th></th>\n",
       "      <th>PassengerId</th>\n",
       "      <th>Survived</th>\n",
       "      <th>Pclass</th>\n",
       "      <th>Name</th>\n",
       "      <th>Sex</th>\n",
       "      <th>Age</th>\n",
       "      <th>SibSp</th>\n",
       "      <th>Parch</th>\n",
       "      <th>Ticket</th>\n",
       "      <th>Fare</th>\n",
       "      <th>Cabin</th>\n",
       "      <th>Embarked</th>\n",
       "    </tr>\n",
       "  </thead>\n",
       "  <tbody>\n",
       "    <tr>\n",
       "      <th>0</th>\n",
       "      <td>892</td>\n",
       "      <td>0</td>\n",
       "      <td>3</td>\n",
       "      <td>Kelly, Mr. James</td>\n",
       "      <td>male</td>\n",
       "      <td>34.5</td>\n",
       "      <td>0</td>\n",
       "      <td>0</td>\n",
       "      <td>330911</td>\n",
       "      <td>7.8292</td>\n",
       "      <td>NaN</td>\n",
       "      <td>Q</td>\n",
       "    </tr>\n",
       "    <tr>\n",
       "      <th>1</th>\n",
       "      <td>893</td>\n",
       "      <td>1</td>\n",
       "      <td>3</td>\n",
       "      <td>Wilkes, Mrs. James (Ellen Needs)</td>\n",
       "      <td>female</td>\n",
       "      <td>47.0</td>\n",
       "      <td>1</td>\n",
       "      <td>0</td>\n",
       "      <td>363272</td>\n",
       "      <td>7.0000</td>\n",
       "      <td>NaN</td>\n",
       "      <td>S</td>\n",
       "    </tr>\n",
       "    <tr>\n",
       "      <th>2</th>\n",
       "      <td>894</td>\n",
       "      <td>0</td>\n",
       "      <td>2</td>\n",
       "      <td>Myles, Mr. Thomas Francis</td>\n",
       "      <td>male</td>\n",
       "      <td>62.0</td>\n",
       "      <td>0</td>\n",
       "      <td>0</td>\n",
       "      <td>240276</td>\n",
       "      <td>9.6875</td>\n",
       "      <td>NaN</td>\n",
       "      <td>Q</td>\n",
       "    </tr>\n",
       "    <tr>\n",
       "      <th>3</th>\n",
       "      <td>895</td>\n",
       "      <td>0</td>\n",
       "      <td>3</td>\n",
       "      <td>Wirz, Mr. Albert</td>\n",
       "      <td>male</td>\n",
       "      <td>27.0</td>\n",
       "      <td>0</td>\n",
       "      <td>0</td>\n",
       "      <td>315154</td>\n",
       "      <td>8.6625</td>\n",
       "      <td>NaN</td>\n",
       "      <td>S</td>\n",
       "    </tr>\n",
       "    <tr>\n",
       "      <th>4</th>\n",
       "      <td>896</td>\n",
       "      <td>1</td>\n",
       "      <td>3</td>\n",
       "      <td>Hirvonen, Mrs. Alexander (Helga E Lindqvist)</td>\n",
       "      <td>female</td>\n",
       "      <td>22.0</td>\n",
       "      <td>1</td>\n",
       "      <td>1</td>\n",
       "      <td>3101298</td>\n",
       "      <td>12.2875</td>\n",
       "      <td>NaN</td>\n",
       "      <td>S</td>\n",
       "    </tr>\n",
       "  </tbody>\n",
       "</table>\n",
       "</div>"
      ],
      "text/plain": [
       "   PassengerId  Survived  Pclass  \\\n",
       "0          892         0       3   \n",
       "1          893         1       3   \n",
       "2          894         0       2   \n",
       "3          895         0       3   \n",
       "4          896         1       3   \n",
       "\n",
       "                                           Name     Sex   Age  SibSp  Parch  \\\n",
       "0                              Kelly, Mr. James    male  34.5      0      0   \n",
       "1              Wilkes, Mrs. James (Ellen Needs)  female  47.0      1      0   \n",
       "2                     Myles, Mr. Thomas Francis    male  62.0      0      0   \n",
       "3                              Wirz, Mr. Albert    male  27.0      0      0   \n",
       "4  Hirvonen, Mrs. Alexander (Helga E Lindqvist)  female  22.0      1      1   \n",
       "\n",
       "    Ticket     Fare Cabin Embarked  \n",
       "0   330911   7.8292   NaN        Q  \n",
       "1   363272   7.0000   NaN        S  \n",
       "2   240276   9.6875   NaN        Q  \n",
       "3   315154   8.6625   NaN        S  \n",
       "4  3101298  12.2875   NaN        S  "
      ]
     },
     "execution_count": 18,
     "metadata": {},
     "output_type": "execute_result"
    }
   ],
   "source": [
    "import numpy as np\n",
    "import pandas as pd\n",
    "import matplotlib.pyplot as plt\n",
    "import seaborn as sns\n",
    "data=pd.read_csv('titanic.csv')\n",
    "data.head(5)"
   ]
  },
  {
   "cell_type": "code",
   "execution_count": 19,
   "id": "d89a570b-6ffe-44ad-887a-5a24555dc620",
   "metadata": {},
   "outputs": [
    {
     "data": {
      "text/plain": [
       "<Axes: title={'center': 'Heatmap for isna function'}>"
      ]
     },
     "execution_count": 19,
     "metadata": {},
     "output_type": "execute_result"
    },
    {
     "data": {
      "image/png": "[encoded data removed]",
      "text/plain": [
       "<Figure size 640x480 with 2 Axes>"
      ]
     },
     "metadata": {},
     "output_type": "display_data"
    }
   ],
   "source": [
    "plt.title(\"Heatmap for isna function\")\n",
    "sns.heatmap(data.isna())"
   ]
  },
  {
   "cell_type": "code",
   "execution_count": 20,
   "id": "bb98c138-aba1-4e4f-8809-e270f6f042a3",
   "metadata": {},
   "outputs": [
    {
     "data": {
      "image/png": "[encoded data removed]",
      "text/plain": [
       "<Figure size 640x480 with 1 Axes>"
      ]
     },
     "metadata": {},
     "output_type": "display_data"
    }
   ],
   "source": [
    "#univariate\n",
    "plt.title(\"Histplot\")\n",
    "g=sns.histplot(x='Sex',data=data)"
   ]
  },
  {
   "cell_type": "code",
   "execution_count": 21,
   "id": "e4c946f2-4b2e-4486-849e-4868cad5243e",
   "metadata": {},
   "outputs": [
    {
     "data": {
      "image/png": "[encoded data removed]",
      "text/plain": [
       "<Figure size 640x480 with 1 Axes>"
      ]
     },
     "metadata": {},
     "output_type": "display_data"
    }
   ],
   "source": [
    "#bivarite\n",
    "plt.title(\"countplot\")\n",
    "sns.countplot(x='Embarked',hue='Pclass',palette='bright',data=data)\n",
    "plt.show()"
   ]
  },
  {
   "cell_type": "code",
   "execution_count": 22,
   "id": "b65ad93d-d1fa-46aa-8ea7-20217a21ec48",
   "metadata": {},
   "outputs": [
    {
     "data": {
      "image/png": "[encoded data removed]",
      "text/plain": [
       "<Figure size 800x500 with 1 Axes>"
      ]
     },
     "metadata": {},
     "output_type": "display_data"
    }
   ],
   "source": [
    "#Histogram for the fare\n",
    "plt.figure(figsize=(8,5))\n",
    "sns.histplot(data['Fare'],bins=30,kde=True)\n",
    "plt.title(\"Histogram of Fare\")\n",
    "plt.xlabel('Fare')\n",
    "plt.ylabel('Frequency')\n",
    "plt.show()"
   ]
  },
  {
   "cell_type": "code",
   "execution_count": 23,
   "id": "0eb3e1a0-9da0-4446-b432-73bc8d1971d9",
   "metadata": {},
   "outputs": [
    {
     "name": "stdout",
     "output_type": "stream",
     "text": [
      "Correlation between Pclass  and Survived :             Pclass  Survived\n",
      "Pclass    1.000000 -0.108615\n",
      "Survived -0.108615  1.000000\n"
     ]
    },
    {
     "data": {
      "image/png": "[encoded data removed]",
      "text/plain": [
       "<Figure size 640x480 with 2 Axes>"
      ]
     },
     "metadata": {},
     "output_type": "display_data"
    }
   ],
   "source": [
    "correlation=data[['Pclass','Survived']].corr()\n",
    "print(\"Correlation between Pclass  and Survived :\",correlation)\n",
    "#Heat map for correlation\n",
    "sns.heatmap(correlation,annot=True,cmap='coolwarm')\n",
    "plt.title('correlation  between Pclass  and survived')\n",
    "plt.show()"
   ]
  },
  {
   "cell_type": "code",
   "execution_count": 25,
   "id": "719f7df9-d54f-41ba-b430-e11efc0fe204",
   "metadata": {},
   "outputs": [
    {
     "data": {
      "image/png": "[encoded data removed]",
      "text/plain": [
       "<Figure size 640x480 with 1 Axes>"
      ]
     },
     "metadata": {},
     "output_type": "display_data"
    }
   ],
   "source": [
    "survived_sex=pd.crosstab(data['Sex'],data['Survived'])\n",
    "survived_sex.plot(kind='bar',stacked=True,color=['lightblue','orange'])\n",
    "plt.title('Survived by Gender')\n",
    "plt.xlabel('Gender')\n",
    "plt.ylabel('Number of passengers')\n",
    "plt.show()"
   ]
  },
  {
   "cell_type": "code",
   "execution_count": 26,
   "id": "c103dcd6-bef2-4922-b084-6439834d13af",
   "metadata": {},
   "outputs": [
    {
     "data": {
      "image/png": "[encoded data removed]",
      "text/plain": [
       "<Figure size 800x500 with 1 Axes>"
      ]
     },
     "metadata": {},
     "output_type": "display_data"
    }
   ],
   "source": [
    "plt.figure(figsize=(8,5))\n",
    "sns.boxplot(x=data['Fare'])\n",
    "plt.title('Boxplot of fare')\n",
    "plt.show()"
   ]
  },
  {
   "cell_type": "code",
   "execution_count": 27,
   "id": "0e30ed3b-15ec-4f0e-8988-81db1a2eb470",
   "metadata": {},
   "outputs": [
    {
     "data": {
      "text/plain": [
       "count    362.000000\n",
       "mean      18.261763\n",
       "std       14.368843\n",
       "min        0.000000\n",
       "25%        7.854200\n",
       "50%       13.000000\n",
       "75%       26.000000\n",
       "max       65.000000\n",
       "Name: Fare, dtype: float64"
      ]
     },
     "execution_count": 27,
     "metadata": {},
     "output_type": "execute_result"
    }
   ],
   "source": [
    "Q1=data['Fare'].quantile(0.25)\n",
    "Q3=data['Fare'].quantile(0.75)\n",
    "IQR=Q3-Q1\n",
    "lower_bound=Q1-1.5*IQR\n",
    "upper_bound=Q3+1.5*IQR\n",
    "data=data[(data['Fare']<upper_bound) & (data['Fare']>lower_bound)]\n",
    "data['Fare'].describe()"
   ]
  },
  {
   "cell_type": "code",
   "execution_count": 29,
   "id": "da29dc56-44d9-4ae4-8ff7-1f632e7a1649",
   "metadata": {},
   "outputs": [
    {
     "data": {
      "image/png": "[encoded data removed]",
      "text/plain": [
       "<Figure size 640x480 with 1 Axes>"
      ]
     },
     "metadata": {},
     "output_type": "display_data"
    }
   ],
   "source": [
    "data['Fare'].plot(kind='box')\n",
    "plt.show()"
   ]
  },
  {
   "cell_type": "code",
   "execution_count": 31,
   "id": "22a23fd0-7e14-4dec-b7ed-12baa303fdba",
   "metadata": {},
   "outputs": [
    {
     "name": "stdout",
     "output_type": "stream",
     "text": [
      "Number of Missing values for\n",
      " PassengerId        0\n",
      "Survived           0\n",
      "Pclass             0\n",
      "Name               0\n",
      "Sex                0\n",
      "Age               83\n",
      "SibSp              0\n",
      "Parch              0\n",
      "Ticket             0\n",
      "Fare               0\n",
      "Cabin            315\n",
      "Embarked           0\n",
      "Age_arbitrary      0\n",
      "dtype: int64\n",
      "    Age  Age_arbitrary  Age_mean  Age_median\n",
      "0  34.5           34.5      34.5        34.5\n",
      "1  47.0           47.0      47.0        47.0\n",
      "2  62.0           62.0      62.0        62.0\n",
      "3  27.0           27.0      27.0        27.0\n",
      "4  22.0           22.0      22.0        22.0\n",
      "5  14.0           14.0      14.0        14.0\n",
      "6  30.0           30.0      30.0        30.0\n",
      "7  26.0           26.0      26.0        26.0\n",
      "8  18.0           18.0      18.0        18.0\n",
      "9  21.0           21.0      21.0        21.0\n"
     ]
    }
   ],
   "source": [
    "missing_values=data.isnull().sum()\n",
    "print(\"Number of Missing values for\\n\",missing_values)\n",
    "data['Age_arbitrary']=data['Age'].fillna(-1)\n",
    "data['Age_mean']=data['Age'].fillna(data['Age'].mean())\n",
    "data['Age_median']=data['Age'].fillna(data['Age'].median())\n",
    "print(data[['Age','Age_arbitrary','Age_mean','Age_median']].head(10))"
   ]
  },
  {
   "cell_type": "code",
   "execution_count": 32,
   "id": "7387a865-3c18-4d69-8d42-f9680cc0d069",
   "metadata": {},
   "outputs": [
    {
     "name": "stdout",
     "output_type": "stream",
     "text": [
      "PassengerId      0\n",
      "Survived         0\n",
      "Pclass           0\n",
      "Name             0\n",
      "Sex              0\n",
      "Age              0\n",
      "SibSp            0\n",
      "Parch            0\n",
      "Ticket           0\n",
      "Fare             0\n",
      "Cabin            0\n",
      "Embarked         0\n",
      "Age_arbitrary    0\n",
      "Age_mean         0\n",
      "Age_median       0\n",
      "dtype: int64\n"
     ]
    }
   ],
   "source": [
    "data_drop=data.dropna(subset=['Cabin','Embarked','Age'])\n",
    "print(data_drop.isnull().sum())"
   ]
  },
  {
   "cell_type": "code",
   "execution_count": 4,
   "id": "0e5f59d5-35bd-4a07-87bc-7da4244af7ad",
   "metadata": {},
   "outputs": [],
   "source": [
    "#week4\n",
    "import warnings\n",
    "warnings.filterwarnings('ignore')"
   ]
  },
  {
   "cell_type": "code",
   "execution_count": 5,
   "id": "5b97a1c2-4d69-428e-bbd0-a6222c8b68a1",
   "metadata": {},
   "outputs": [
    {
     "data": {
      "text/html": [
       "<div>\n",
       "<style scoped>\n",
       "    .dataframe tbody tr th:only-of-type {\n",
       "        vertical-align: middle;\n",
       "    }\n",
       "\n",
       "    .dataframe tbody tr th {\n",
       "        vertical-align: top;\n",
       "    }\n",
       "\n",
       "    .dataframe thead th {\n",
       "        text-align: right;\n",
       "    }\n",
       "</style>\n",
       "<table border=\"1\" class=\"dataframe\">\n",
       "  <thead>\n",
       "    <tr style=\"text-align: right;\">\n",
       "      <th></th>\n",
       "      <th>PatientId</th>\n",
       "      <th>AppointmentID</th>\n",
       "      <th>Gender</th>\n",
       "      <th>ScheduledDay</th>\n",
       "      <th>AppointmentDay</th>\n",
       "      <th>Age</th>\n",
       "      <th>Neighbourhood</th>\n",
       "      <th>Scholarship</th>\n",
       "      <th>Hipertension</th>\n",
       "      <th>Diabetes</th>\n",
       "      <th>Alcoholism</th>\n",
       "      <th>Handcap</th>\n",
       "      <th>SMS_received</th>\n",
       "      <th>Showed_up</th>\n",
       "      <th>Date.diff</th>\n",
       "    </tr>\n",
       "  </thead>\n",
       "  <tbody>\n",
       "    <tr>\n",
       "      <th>0</th>\n",
       "      <td>2.987250e+13</td>\n",
       "      <td>5642903.0</td>\n",
       "      <td>F</td>\n",
       "      <td>2016-04-29</td>\n",
       "      <td>2016-04-29</td>\n",
       "      <td>62.0</td>\n",
       "      <td>JARDIM DA PENHA</td>\n",
       "      <td>False</td>\n",
       "      <td>True</td>\n",
       "      <td>False</td>\n",
       "      <td>False</td>\n",
       "      <td>False</td>\n",
       "      <td>False</td>\n",
       "      <td>True</td>\n",
       "      <td>0.0</td>\n",
       "    </tr>\n",
       "    <tr>\n",
       "      <th>1</th>\n",
       "      <td>5.589978e+14</td>\n",
       "      <td>5642503.0</td>\n",
       "      <td>M</td>\n",
       "      <td>2016-04-29</td>\n",
       "      <td>2016-04-29</td>\n",
       "      <td>56.0</td>\n",
       "      <td>JARDIM DA PENHA</td>\n",
       "      <td>False</td>\n",
       "      <td>False</td>\n",
       "      <td>False</td>\n",
       "      <td>False</td>\n",
       "      <td>False</td>\n",
       "      <td>False</td>\n",
       "      <td>True</td>\n",
       "      <td>0.0</td>\n",
       "    </tr>\n",
       "    <tr>\n",
       "      <th>2</th>\n",
       "      <td>4.262962e+12</td>\n",
       "      <td>5642549.0</td>\n",
       "      <td>F</td>\n",
       "      <td>2016-04-29</td>\n",
       "      <td>2016-04-29</td>\n",
       "      <td>62.0</td>\n",
       "      <td>MATA DA PRAIA</td>\n",
       "      <td>False</td>\n",
       "      <td>False</td>\n",
       "      <td>False</td>\n",
       "      <td>False</td>\n",
       "      <td>False</td>\n",
       "      <td>False</td>\n",
       "      <td>True</td>\n",
       "      <td>0.0</td>\n",
       "    </tr>\n",
       "    <tr>\n",
       "      <th>3</th>\n",
       "      <td>8.679512e+11</td>\n",
       "      <td>5642828.0</td>\n",
       "      <td>F</td>\n",
       "      <td>2016-04-29</td>\n",
       "      <td>2016-04-29</td>\n",
       "      <td>8.0</td>\n",
       "      <td>PONTAL DE CAMBURI</td>\n",
       "      <td>False</td>\n",
       "      <td>False</td>\n",
       "      <td>False</td>\n",
       "      <td>False</td>\n",
       "      <td>False</td>\n",
       "      <td>False</td>\n",
       "      <td>True</td>\n",
       "      <td>0.0</td>\n",
       "    </tr>\n",
       "    <tr>\n",
       "      <th>4</th>\n",
       "      <td>8.841186e+12</td>\n",
       "      <td>5642494.0</td>\n",
       "      <td>F</td>\n",
       "      <td>2016-04-29</td>\n",
       "      <td>2016-04-29</td>\n",
       "      <td>56.0</td>\n",
       "      <td>JARDIM DA PENHA</td>\n",
       "      <td>False</td>\n",
       "      <td>True</td>\n",
       "      <td>True</td>\n",
       "      <td>False</td>\n",
       "      <td>False</td>\n",
       "      <td>False</td>\n",
       "      <td>True</td>\n",
       "      <td>0.0</td>\n",
       "    </tr>\n",
       "    <tr>\n",
       "      <th>5</th>\n",
       "      <td>9.598513e+13</td>\n",
       "      <td>5626772.0</td>\n",
       "      <td>F</td>\n",
       "      <td>2016-04-27</td>\n",
       "      <td>2016-04-29</td>\n",
       "      <td>76.0</td>\n",
       "      <td>REPÚBLICA</td>\n",
       "      <td>False</td>\n",
       "      <td>True</td>\n",
       "      <td>False</td>\n",
       "      <td>False</td>\n",
       "      <td>False</td>\n",
       "      <td>False</td>\n",
       "      <td>True</td>\n",
       "      <td>2.0</td>\n",
       "    </tr>\n",
       "    <tr>\n",
       "      <th>6</th>\n",
       "      <td>7.336882e+14</td>\n",
       "      <td>5630279.0</td>\n",
       "      <td>F</td>\n",
       "      <td>2016-04-27</td>\n",
       "      <td>2016-04-29</td>\n",
       "      <td>23.0</td>\n",
       "      <td>GOIABEIRAS</td>\n",
       "      <td>False</td>\n",
       "      <td>False</td>\n",
       "      <td>False</td>\n",
       "      <td>False</td>\n",
       "      <td>False</td>\n",
       "      <td>False</td>\n",
       "      <td>False</td>\n",
       "      <td>2.0</td>\n",
       "    </tr>\n",
       "    <tr>\n",
       "      <th>7</th>\n",
       "      <td>3.449833e+12</td>\n",
       "      <td>5630575.0</td>\n",
       "      <td>F</td>\n",
       "      <td>2016-04-27</td>\n",
       "      <td>2016-04-29</td>\n",
       "      <td>39.0</td>\n",
       "      <td>GOIABEIRAS</td>\n",
       "      <td>False</td>\n",
       "      <td>False</td>\n",
       "      <td>False</td>\n",
       "      <td>False</td>\n",
       "      <td>False</td>\n",
       "      <td>False</td>\n",
       "      <td>False</td>\n",
       "      <td>2.0</td>\n",
       "    </tr>\n",
       "    <tr>\n",
       "      <th>8</th>\n",
       "      <td>5.639473e+13</td>\n",
       "      <td>5638447.0</td>\n",
       "      <td>F</td>\n",
       "      <td>2016-04-29</td>\n",
       "      <td>2016-04-29</td>\n",
       "      <td>21.0</td>\n",
       "      <td>ANDORINHAS</td>\n",
       "      <td>False</td>\n",
       "      <td>False</td>\n",
       "      <td>False</td>\n",
       "      <td>False</td>\n",
       "      <td>False</td>\n",
       "      <td>False</td>\n",
       "      <td>True</td>\n",
       "      <td>0.0</td>\n",
       "    </tr>\n",
       "    <tr>\n",
       "      <th>9</th>\n",
       "      <td>7.812456e+13</td>\n",
       "      <td>5629123.0</td>\n",
       "      <td>F</td>\n",
       "      <td>2016-04-27</td>\n",
       "      <td>2016-04-29</td>\n",
       "      <td>19.0</td>\n",
       "      <td>CONQUISTA</td>\n",
       "      <td>False</td>\n",
       "      <td>False</td>\n",
       "      <td>False</td>\n",
       "      <td>False</td>\n",
       "      <td>False</td>\n",
       "      <td>False</td>\n",
       "      <td>True</td>\n",
       "      <td>2.0</td>\n",
       "    </tr>\n",
       "  </tbody>\n",
       "</table>\n",
       "</div>"
      ],
      "text/plain": [
       "      PatientId  AppointmentID Gender ScheduledDay AppointmentDay   Age  \\\n",
       "0  2.987250e+13      5642903.0      F   2016-04-29     2016-04-29  62.0   \n",
       "1  5.589978e+14      5642503.0      M   2016-04-29     2016-04-29  56.0   \n",
       "2  4.262962e+12      5642549.0      F   2016-04-29     2016-04-29  62.0   \n",
       "3  8.679512e+11      5642828.0      F   2016-04-29     2016-04-29   8.0   \n",
       "4  8.841186e+12      5642494.0      F   2016-04-29     2016-04-29  56.0   \n",
       "5  9.598513e+13      5626772.0      F   2016-04-27     2016-04-29  76.0   \n",
       "6  7.336882e+14      5630279.0      F   2016-04-27     2016-04-29  23.0   \n",
       "7  3.449833e+12      5630575.0      F   2016-04-27     2016-04-29  39.0   \n",
       "8  5.639473e+13      5638447.0      F   2016-04-29     2016-04-29  21.0   \n",
       "9  7.812456e+13      5629123.0      F   2016-04-27     2016-04-29  19.0   \n",
       "\n",
       "       Neighbourhood Scholarship Hipertension Diabetes Alcoholism Handcap  \\\n",
       "0    JARDIM DA PENHA       False         True    False      False   False   \n",
       "1    JARDIM DA PENHA       False        False    False      False   False   \n",
       "2      MATA DA PRAIA       False        False    False      False   False   \n",
       "3  PONTAL DE CAMBURI       False        False    False      False   False   \n",
       "4    JARDIM DA PENHA       False         True     True      False   False   \n",
       "5          REPÚBLICA       False         True    False      False   False   \n",
       "6         GOIABEIRAS       False        False    False      False   False   \n",
       "7         GOIABEIRAS       False        False    False      False   False   \n",
       "8         ANDORINHAS       False        False    False      False   False   \n",
       "9          CONQUISTA       False        False    False      False   False   \n",
       "\n",
       "  SMS_received Showed_up  Date.diff  \n",
       "0        False      True        0.0  \n",
       "1        False      True        0.0  \n",
       "2        False      True        0.0  \n",
       "3        False      True        0.0  \n",
       "4        False      True        0.0  \n",
       "5        False      True        2.0  \n",
       "6        False     False        2.0  \n",
       "7        False     False        2.0  \n",
       "8        False      True        0.0  \n",
       "9        False      True        2.0  "
      ]
     },
     "execution_count": 5,
     "metadata": {},
     "output_type": "execute_result"
    }
   ],
   "source": [
    "import pandas as pd\n",
    "import matplotlib.pyplot as plt\n",
    "df=pd.read_csv(\"healthcare_noshows.csv\")\n",
    "df.head(10)"
   ]
  },
  {
   "cell_type": "code",
   "execution_count": 6,
   "id": "e8de4b4f-58a7-48a8-a66b-0b4c4dfd6562",
   "metadata": {},
   "outputs": [
    {
     "data": {
      "text/plain": [
       "np.int64(0)"
      ]
     },
     "execution_count": 6,
     "metadata": {},
     "output_type": "execute_result"
    }
   ],
   "source": [
    "df.duplicated().sum()"
   ]
  },
  {
   "cell_type": "code",
   "execution_count": 7,
   "id": "dae828b5-dfa1-4a13-89d3-6f32d79657f6",
   "metadata": {},
   "outputs": [
    {
     "data": {
      "text/plain": [
       "PatientId         0\n",
       "AppointmentID     1\n",
       "Gender            1\n",
       "ScheduledDay      1\n",
       "AppointmentDay    1\n",
       "Age               1\n",
       "Neighbourhood     1\n",
       "Scholarship       1\n",
       "Hipertension      1\n",
       "Diabetes          1\n",
       "Alcoholism        1\n",
       "Handcap           1\n",
       "SMS_received      1\n",
       "Showed_up         1\n",
       "Date.diff         1\n",
       "dtype: int64"
      ]
     },
     "execution_count": 7,
     "metadata": {},
     "output_type": "execute_result"
    }
   ],
   "source": [
    "df.isna().sum()"
   ]
  },
  {
   "cell_type": "code",
   "execution_count": 8,
   "id": "65a6fef0-c126-480e-bb66-7be2d9e134cb",
   "metadata": {},
   "outputs": [
    {
     "data": {
      "text/plain": [
       "(9639, 15)"
      ]
     },
     "execution_count": 8,
     "metadata": {},
     "output_type": "execute_result"
    }
   ],
   "source": [
    "df.shape"
   ]
  },
  {
   "cell_type": "code",
   "execution_count": 9,
   "id": "368957b6-8b27-4b23-8ee3-67f3bb584ea3",
   "metadata": {},
   "outputs": [
    {
     "data": {
      "text/html": [
       "<div>\n",
       "<style scoped>\n",
       "    .dataframe tbody tr th:only-of-type {\n",
       "        vertical-align: middle;\n",
       "    }\n",
       "\n",
       "    .dataframe tbody tr th {\n",
       "        vertical-align: top;\n",
       "    }\n",
       "\n",
       "    .dataframe thead th {\n",
       "        text-align: right;\n",
       "    }\n",
       "</style>\n",
       "<table border=\"1\" class=\"dataframe\">\n",
       "  <thead>\n",
       "    <tr style=\"text-align: right;\">\n",
       "      <th></th>\n",
       "      <th>PatientId</th>\n",
       "      <th>AppointmentID</th>\n",
       "      <th>Age</th>\n",
       "      <th>Date.diff</th>\n",
       "    </tr>\n",
       "  </thead>\n",
       "  <tbody>\n",
       "    <tr>\n",
       "      <th>count</th>\n",
       "      <td>9.639000e+03</td>\n",
       "      <td>9.638000e+03</td>\n",
       "      <td>9638.000000</td>\n",
       "      <td>9638.000000</td>\n",
       "    </tr>\n",
       "    <tr>\n",
       "      <th>mean</th>\n",
       "      <td>1.576959e+14</td>\n",
       "      <td>5.648165e+06</td>\n",
       "      <td>39.226499</td>\n",
       "      <td>8.365429</td>\n",
       "    </tr>\n",
       "    <tr>\n",
       "      <th>std</th>\n",
       "      <td>2.688289e+14</td>\n",
       "      <td>6.587076e+04</td>\n",
       "      <td>21.488847</td>\n",
       "      <td>12.996711</td>\n",
       "    </tr>\n",
       "    <tr>\n",
       "      <th>min</th>\n",
       "      <td>9.377953e+04</td>\n",
       "      <td>5.030230e+06</td>\n",
       "      <td>1.000000</td>\n",
       "      <td>0.000000</td>\n",
       "    </tr>\n",
       "    <tr>\n",
       "      <th>25%</th>\n",
       "      <td>4.499384e+12</td>\n",
       "      <td>5.624848e+06</td>\n",
       "      <td>21.000000</td>\n",
       "      <td>0.000000</td>\n",
       "    </tr>\n",
       "    <tr>\n",
       "      <th>50%</th>\n",
       "      <td>3.234821e+13</td>\n",
       "      <td>5.650096e+06</td>\n",
       "      <td>40.000000</td>\n",
       "      <td>3.000000</td>\n",
       "    </tr>\n",
       "    <tr>\n",
       "      <th>75%</th>\n",
       "      <td>9.548100e+13</td>\n",
       "      <td>5.694644e+06</td>\n",
       "      <td>56.000000</td>\n",
       "      <td>10.000000</td>\n",
       "    </tr>\n",
       "    <tr>\n",
       "      <th>max</th>\n",
       "      <td>9.999350e+14</td>\n",
       "      <td>5.754683e+06</td>\n",
       "      <td>98.000000</td>\n",
       "      <td>176.000000</td>\n",
       "    </tr>\n",
       "  </tbody>\n",
       "</table>\n",
       "</div>"
      ],
      "text/plain": [
       "          PatientId  AppointmentID          Age    Date.diff\n",
       "count  9.639000e+03   9.638000e+03  9638.000000  9638.000000\n",
       "mean   1.576959e+14   5.648165e+06    39.226499     8.365429\n",
       "std    2.688289e+14   6.587076e+04    21.488847    12.996711\n",
       "min    9.377953e+04   5.030230e+06     1.000000     0.000000\n",
       "25%    4.499384e+12   5.624848e+06    21.000000     0.000000\n",
       "50%    3.234821e+13   5.650096e+06    40.000000     3.000000\n",
       "75%    9.548100e+13   5.694644e+06    56.000000    10.000000\n",
       "max    9.999350e+14   5.754683e+06    98.000000   176.000000"
      ]
     },
     "execution_count": 9,
     "metadata": {},
     "output_type": "execute_result"
    }
   ],
   "source": [
    "df.describe()"
   ]
  },
  {
   "cell_type": "code",
   "execution_count": 10,
   "id": "8acbecd6-f65d-41e4-81a1-c2604c4c8978",
   "metadata": {},
   "outputs": [
    {
     "name": "stdout",
     "output_type": "stream",
     "text": [
      "<class 'pandas.core.frame.DataFrame'>\n",
      "RangeIndex: 9639 entries, 0 to 9638\n",
      "Data columns (total 15 columns):\n",
      " #   Column          Non-Null Count  Dtype  \n",
      "---  ------          --------------  -----  \n",
      " 0   PatientId       9639 non-null   float64\n",
      " 1   AppointmentID   9638 non-null   float64\n",
      " 2   Gender          9638 non-null   object \n",
      " 3   ScheduledDay    9638 non-null   object \n",
      " 4   AppointmentDay  9638 non-null   object \n",
      " 5   Age             9638 non-null   float64\n",
      " 6   Neighbourhood   9638 non-null   object \n",
      " 7   Scholarship     9638 non-null   object \n",
      " 8   Hipertension    9638 non-null   object \n",
      " 9   Diabetes        9638 non-null   object \n",
      " 10  Alcoholism      9638 non-null   object \n",
      " 11  Handcap         9638 non-null   object \n",
      " 12  SMS_received    9638 non-null   object \n",
      " 13  Showed_up       9638 non-null   object \n",
      " 14  Date.diff       9638 non-null   float64\n",
      "dtypes: float64(4), object(11)\n",
      "memory usage: 1.1+ MB\n"
     ]
    }
   ],
   "source": [
    "df.info()"
   ]
  },
  {
   "cell_type": "code",
   "execution_count": 11,
   "id": "27eeb6c9-6cbf-489e-9428-ead7f99abf9f",
   "metadata": {},
   "outputs": [
    {
     "data": {
      "image/png": "[encoded data removed]",
      "text/plain": [
       "<Figure size 640x480 with 1 Axes>"
      ]
     },
     "metadata": {},
     "output_type": "display_data"
    }
   ],
   "source": [
    "import seaborn as sns\n",
    "sns.histplot(data=df,x='Date.diff',bins=50)\n",
    "plt.title(\"Histogram of Waiting time\")\n",
    "plt.xlabel('Date.diff')\n",
    "plt.ylabel('Frequency')\n",
    "plt.show()"
   ]
  },
  {
   "cell_type": "code",
   "execution_count": 14,
   "id": "f2fb6c1e-0003-4022-8c46-e1237e6455e9",
   "metadata": {},
   "outputs": [
    {
     "data": {
      "text/plain": [
       "0      NaN\n",
       "1      NaN\n",
       "2      NaN\n",
       "3      NaN\n",
       "4      NaN\n",
       "        ..\n",
       "9634   NaN\n",
       "9635   NaN\n",
       "9636   NaN\n",
       "9637   NaN\n",
       "9638   NaN\n",
       "Name: Handcap, Length: 9639, dtype: float64"
      ]
     },
     "execution_count": 14,
     "metadata": {},
     "output_type": "execute_result"
    }
   ],
   "source": [
    "df[\"Handcap\"] = df[\"Handcap\"].map({'No':1,'Yes':0})\n",
    "df[\"Handcap\"]"
   ]
  },
  {
   "cell_type": "code",
   "execution_count": 17,
   "id": "4e5f5357-2e12-4efd-8fa3-be574fe4427c",
   "metadata": {},
   "outputs": [
    {
     "data": {
      "text/html": [
       "<div>\n",
       "<style scoped>\n",
       "    .dataframe tbody tr th:only-of-type {\n",
       "        vertical-align: middle;\n",
       "    }\n",
       "\n",
       "    .dataframe tbody tr th {\n",
       "        vertical-align: top;\n",
       "    }\n",
       "\n",
       "    .dataframe thead th {\n",
       "        text-align: right;\n",
       "    }\n",
       "</style>\n",
       "<table border=\"1\" class=\"dataframe\">\n",
       "  <thead>\n",
       "    <tr style=\"text-align: right;\">\n",
       "      <th></th>\n",
       "      <th>PatientId</th>\n",
       "      <th>AppointmentID</th>\n",
       "      <th>Gender</th>\n",
       "      <th>ScheduledDay</th>\n",
       "      <th>AppointmentDay</th>\n",
       "      <th>Age</th>\n",
       "      <th>Neighbourhood</th>\n",
       "      <th>Scholarship</th>\n",
       "      <th>Hipertension</th>\n",
       "      <th>Diabetes</th>\n",
       "      <th>Alcoholism</th>\n",
       "      <th>Handcap</th>\n",
       "      <th>SMS_received</th>\n",
       "      <th>Showed_up</th>\n",
       "      <th>Date.diff</th>\n",
       "    </tr>\n",
       "  </thead>\n",
       "  <tbody>\n",
       "    <tr>\n",
       "      <th>0</th>\n",
       "      <td>3662</td>\n",
       "      <td>4447</td>\n",
       "      <td>0</td>\n",
       "      <td>56</td>\n",
       "      <td>0</td>\n",
       "      <td>61</td>\n",
       "      <td>37</td>\n",
       "      <td>0</td>\n",
       "      <td>1</td>\n",
       "      <td>0</td>\n",
       "      <td>0</td>\n",
       "      <td>0</td>\n",
       "      <td>0</td>\n",
       "      <td>1</td>\n",
       "      <td>0</td>\n",
       "    </tr>\n",
       "    <tr>\n",
       "      <th>1</th>\n",
       "      <td>6479</td>\n",
       "      <td>4387</td>\n",
       "      <td>1</td>\n",
       "      <td>56</td>\n",
       "      <td>0</td>\n",
       "      <td>55</td>\n",
       "      <td>37</td>\n",
       "      <td>0</td>\n",
       "      <td>0</td>\n",
       "      <td>0</td>\n",
       "      <td>0</td>\n",
       "      <td>0</td>\n",
       "      <td>0</td>\n",
       "      <td>1</td>\n",
       "      <td>0</td>\n",
       "    </tr>\n",
       "    <tr>\n",
       "      <th>2</th>\n",
       "      <td>1822</td>\n",
       "      <td>4393</td>\n",
       "      <td>0</td>\n",
       "      <td>56</td>\n",
       "      <td>0</td>\n",
       "      <td>61</td>\n",
       "      <td>43</td>\n",
       "      <td>0</td>\n",
       "      <td>0</td>\n",
       "      <td>0</td>\n",
       "      <td>0</td>\n",
       "      <td>0</td>\n",
       "      <td>0</td>\n",
       "      <td>1</td>\n",
       "      <td>0</td>\n",
       "    </tr>\n",
       "    <tr>\n",
       "      <th>3</th>\n",
       "      <td>1021</td>\n",
       "      <td>4433</td>\n",
       "      <td>0</td>\n",
       "      <td>56</td>\n",
       "      <td>0</td>\n",
       "      <td>7</td>\n",
       "      <td>51</td>\n",
       "      <td>0</td>\n",
       "      <td>0</td>\n",
       "      <td>0</td>\n",
       "      <td>0</td>\n",
       "      <td>0</td>\n",
       "      <td>0</td>\n",
       "      <td>1</td>\n",
       "      <td>0</td>\n",
       "    </tr>\n",
       "    <tr>\n",
       "      <th>4</th>\n",
       "      <td>2816</td>\n",
       "      <td>4382</td>\n",
       "      <td>0</td>\n",
       "      <td>56</td>\n",
       "      <td>0</td>\n",
       "      <td>55</td>\n",
       "      <td>37</td>\n",
       "      <td>0</td>\n",
       "      <td>1</td>\n",
       "      <td>1</td>\n",
       "      <td>0</td>\n",
       "      <td>0</td>\n",
       "      <td>0</td>\n",
       "      <td>1</td>\n",
       "      <td>0</td>\n",
       "    </tr>\n",
       "    <tr>\n",
       "      <th>...</th>\n",
       "      <td>...</td>\n",
       "      <td>...</td>\n",
       "      <td>...</td>\n",
       "      <td>...</td>\n",
       "      <td>...</td>\n",
       "      <td>...</td>\n",
       "      <td>...</td>\n",
       "      <td>...</td>\n",
       "      <td>...</td>\n",
       "      <td>...</td>\n",
       "      <td>...</td>\n",
       "      <td>...</td>\n",
       "      <td>...</td>\n",
       "      <td>...</td>\n",
       "      <td>...</td>\n",
       "    </tr>\n",
       "    <tr>\n",
       "      <th>9634</th>\n",
       "      <td>405</td>\n",
       "      <td>8945</td>\n",
       "      <td>0</td>\n",
       "      <td>72</td>\n",
       "      <td>16</td>\n",
       "      <td>3</td>\n",
       "      <td>22</td>\n",
       "      <td>0</td>\n",
       "      <td>0</td>\n",
       "      <td>0</td>\n",
       "      <td>0</td>\n",
       "      <td>0</td>\n",
       "      <td>0</td>\n",
       "      <td>1</td>\n",
       "      <td>0</td>\n",
       "    </tr>\n",
       "    <tr>\n",
       "      <th>9635</th>\n",
       "      <td>5364</td>\n",
       "      <td>2899</td>\n",
       "      <td>1</td>\n",
       "      <td>55</td>\n",
       "      <td>2</td>\n",
       "      <td>40</td>\n",
       "      <td>22</td>\n",
       "      <td>0</td>\n",
       "      <td>0</td>\n",
       "      <td>0</td>\n",
       "      <td>0</td>\n",
       "      <td>0</td>\n",
       "      <td>1</td>\n",
       "      <td>1</td>\n",
       "      <td>5</td>\n",
       "    </tr>\n",
       "    <tr>\n",
       "      <th>9636</th>\n",
       "      <td>4817</td>\n",
       "      <td>5309</td>\n",
       "      <td>1</td>\n",
       "      <td>60</td>\n",
       "      <td>7</td>\n",
       "      <td>49</td>\n",
       "      <td>22</td>\n",
       "      <td>0</td>\n",
       "      <td>1</td>\n",
       "      <td>0</td>\n",
       "      <td>0</td>\n",
       "      <td>0</td>\n",
       "      <td>1</td>\n",
       "      <td>1</td>\n",
       "      <td>5</td>\n",
       "    </tr>\n",
       "    <tr>\n",
       "      <th>9637</th>\n",
       "      <td>3992</td>\n",
       "      <td>6854</td>\n",
       "      <td>1</td>\n",
       "      <td>65</td>\n",
       "      <td>12</td>\n",
       "      <td>71</td>\n",
       "      <td>57</td>\n",
       "      <td>0</td>\n",
       "      <td>1</td>\n",
       "      <td>0</td>\n",
       "      <td>0</td>\n",
       "      <td>0</td>\n",
       "      <td>0</td>\n",
       "      <td>1</td>\n",
       "      <td>5</td>\n",
       "    </tr>\n",
       "    <tr>\n",
       "      <th>9638</th>\n",
       "      <td>8</td>\n",
       "      <td>9638</td>\n",
       "      <td>2</td>\n",
       "      <td>76</td>\n",
       "      <td>20</td>\n",
       "      <td>96</td>\n",
       "      <td>78</td>\n",
       "      <td>2</td>\n",
       "      <td>2</td>\n",
       "      <td>2</td>\n",
       "      <td>2</td>\n",
       "      <td>0</td>\n",
       "      <td>2</td>\n",
       "      <td>2</td>\n",
       "      <td>83</td>\n",
       "    </tr>\n",
       "  </tbody>\n",
       "</table>\n",
       "<p>9639 rows × 15 columns</p>\n",
       "</div>"
      ],
      "text/plain": [
       "      PatientId  AppointmentID  Gender  ScheduledDay  AppointmentDay  Age  \\\n",
       "0          3662           4447       0            56               0   61   \n",
       "1          6479           4387       1            56               0   55   \n",
       "2          1822           4393       0            56               0   61   \n",
       "3          1021           4433       0            56               0    7   \n",
       "4          2816           4382       0            56               0   55   \n",
       "...         ...            ...     ...           ...             ...  ...   \n",
       "9634        405           8945       0            72              16    3   \n",
       "9635       5364           2899       1            55               2   40   \n",
       "9636       4817           5309       1            60               7   49   \n",
       "9637       3992           6854       1            65              12   71   \n",
       "9638          8           9638       2            76              20   96   \n",
       "\n",
       "      Neighbourhood  Scholarship  Hipertension  Diabetes  Alcoholism  Handcap  \\\n",
       "0                37            0             1         0           0        0   \n",
       "1                37            0             0         0           0        0   \n",
       "2                43            0             0         0           0        0   \n",
       "3                51            0             0         0           0        0   \n",
       "4                37            0             1         1           0        0   \n",
       "...             ...          ...           ...       ...         ...      ...   \n",
       "9634             22            0             0         0           0        0   \n",
       "9635             22            0             0         0           0        0   \n",
       "9636             22            0             1         0           0        0   \n",
       "9637             57            0             1         0           0        0   \n",
       "9638             78            2             2         2           2        0   \n",
       "\n",
       "      SMS_received  Showed_up  Date.diff  \n",
       "0                0          1          0  \n",
       "1                0          1          0  \n",
       "2                0          1          0  \n",
       "3                0          1          0  \n",
       "4                0          1          0  \n",
       "...            ...        ...        ...  \n",
       "9634             0          1          0  \n",
       "9635             1          1          5  \n",
       "9636             1          1          5  \n",
       "9637             0          1          5  \n",
       "9638             2          2         83  \n",
       "\n",
       "[9639 rows x 15 columns]"
      ]
     },
     "execution_count": 17,
     "metadata": {},
     "output_type": "execute_result"
    }
   ],
   "source": [
    "from sklearn.preprocessing import LabelEncoder\n",
    "le=LabelEncoder()\n",
    "df.apply(lambda x:le.fit_transform(x))"
   ]
  },
  {
   "cell_type": "code",
   "execution_count": 46,
   "id": "5ba85fb1-4bf0-41d7-8675-d82a75031e79",
   "metadata": {},
   "outputs": [],
   "source": [
    "import numpy as np\n",
    "import pandas as pd\n",
    "import seaborn as sns\n",
    "import matplotlib.pyplot as plt"
   ]
  },
  {
   "cell_type": "code",
   "execution_count": 47,
   "id": "feb950fd-bc89-4f80-82f4-09d77865e69a",
   "metadata": {},
   "outputs": [
    {
     "data": {
      "text/html": [
       "<div>\n",
       "<style scoped>\n",
       "    .dataframe tbody tr th:only-of-type {\n",
       "        vertical-align: middle;\n",
       "    }\n",
       "\n",
       "    .dataframe tbody tr th {\n",
       "        vertical-align: top;\n",
       "    }\n",
       "\n",
       "    .dataframe thead th {\n",
       "        text-align: right;\n",
       "    }\n",
       "</style>\n",
       "<table border=\"1\" class=\"dataframe\">\n",
       "  <thead>\n",
       "    <tr style=\"text-align: right;\">\n",
       "      <th></th>\n",
       "      <th>Area</th>\n",
       "      <th>Room</th>\n",
       "      <th>Parking</th>\n",
       "      <th>Warehouse</th>\n",
       "      <th>Elevator</th>\n",
       "      <th>Address</th>\n",
       "      <th>Price</th>\n",
       "      <th>Price(USD)</th>\n",
       "    </tr>\n",
       "  </thead>\n",
       "  <tbody>\n",
       "    <tr>\n",
       "      <th>0</th>\n",
       "      <td>63</td>\n",
       "      <td>1</td>\n",
       "      <td>True</td>\n",
       "      <td>True</td>\n",
       "      <td>True</td>\n",
       "      <td>Shahran</td>\n",
       "      <td>1.850000e+09</td>\n",
       "      <td>61666.67</td>\n",
       "    </tr>\n",
       "    <tr>\n",
       "      <th>1</th>\n",
       "      <td>60</td>\n",
       "      <td>1</td>\n",
       "      <td>True</td>\n",
       "      <td>True</td>\n",
       "      <td>True</td>\n",
       "      <td>Shahran</td>\n",
       "      <td>1.850000e+09</td>\n",
       "      <td>61666.67</td>\n",
       "    </tr>\n",
       "    <tr>\n",
       "      <th>2</th>\n",
       "      <td>79</td>\n",
       "      <td>2</td>\n",
       "      <td>True</td>\n",
       "      <td>True</td>\n",
       "      <td>True</td>\n",
       "      <td>Pardis</td>\n",
       "      <td>5.500000e+08</td>\n",
       "      <td>18333.33</td>\n",
       "    </tr>\n",
       "    <tr>\n",
       "      <th>3</th>\n",
       "      <td>95</td>\n",
       "      <td>2</td>\n",
       "      <td>True</td>\n",
       "      <td>True</td>\n",
       "      <td>True</td>\n",
       "      <td>Shahrake Qods</td>\n",
       "      <td>9.025000e+08</td>\n",
       "      <td>30083.33</td>\n",
       "    </tr>\n",
       "    <tr>\n",
       "      <th>4</th>\n",
       "      <td>123</td>\n",
       "      <td>2</td>\n",
       "      <td>True</td>\n",
       "      <td>True</td>\n",
       "      <td>True</td>\n",
       "      <td>Shahrake Gharb</td>\n",
       "      <td>7.000000e+09</td>\n",
       "      <td>233333.33</td>\n",
       "    </tr>\n",
       "  </tbody>\n",
       "</table>\n",
       "</div>"
      ],
      "text/plain": [
       "  Area  Room  Parking  Warehouse  Elevator         Address         Price  \\\n",
       "0   63     1     True       True      True         Shahran  1.850000e+09   \n",
       "1   60     1     True       True      True         Shahran  1.850000e+09   \n",
       "2   79     2     True       True      True          Pardis  5.500000e+08   \n",
       "3   95     2     True       True      True   Shahrake Qods  9.025000e+08   \n",
       "4  123     2     True       True      True  Shahrake Gharb  7.000000e+09   \n",
       "\n",
       "   Price(USD)  \n",
       "0    61666.67  \n",
       "1    61666.67  \n",
       "2    18333.33  \n",
       "3    30083.33  \n",
       "4   233333.33  "
      ]
     },
     "execution_count": 47,
     "metadata": {},
     "output_type": "execute_result"
    }
   ],
   "source": [
    "dataframe=pd.read_csv(\"housePrice.csv\")\n",
    "dataframe.head()"
   ]
  },
  {
   "cell_type": "code",
   "execution_count": 48,
   "id": "7cc30b99-b948-4267-b27f-8be9ae1876eb",
   "metadata": {},
   "outputs": [
    {
     "data": {
      "text/plain": [
       "(3479, 8)"
      ]
     },
     "execution_count": 48,
     "metadata": {},
     "output_type": "execute_result"
    }
   ],
   "source": [
    "dataframe.shape"
   ]
  },
  {
   "cell_type": "code",
   "execution_count": 49,
   "id": "dedc7630-7213-4dc6-8a95-0b209ecfcc32",
   "metadata": {},
   "outputs": [
    {
     "data": {
      "text/html": [
       "<div>\n",
       "<style scoped>\n",
       "    .dataframe tbody tr th:only-of-type {\n",
       "        vertical-align: middle;\n",
       "    }\n",
       "\n",
       "    .dataframe tbody tr th {\n",
       "        vertical-align: top;\n",
       "    }\n",
       "\n",
       "    .dataframe thead th {\n",
       "        text-align: right;\n",
       "    }\n",
       "</style>\n",
       "<table border=\"1\" class=\"dataframe\">\n",
       "  <thead>\n",
       "    <tr style=\"text-align: right;\">\n",
       "      <th></th>\n",
       "      <th>PatientId</th>\n",
       "      <th>AppointmentID</th>\n",
       "      <th>Age</th>\n",
       "      <th>Handcap</th>\n",
       "      <th>Date.diff</th>\n",
       "    </tr>\n",
       "  </thead>\n",
       "  <tbody>\n",
       "    <tr>\n",
       "      <th>count</th>\n",
       "      <td>9.639000e+03</td>\n",
       "      <td>9.638000e+03</td>\n",
       "      <td>9638.000000</td>\n",
       "      <td>0.0</td>\n",
       "      <td>9638.000000</td>\n",
       "    </tr>\n",
       "    <tr>\n",
       "      <th>mean</th>\n",
       "      <td>1.576959e+14</td>\n",
       "      <td>5.648165e+06</td>\n",
       "      <td>39.226499</td>\n",
       "      <td>NaN</td>\n",
       "      <td>8.365429</td>\n",
       "    </tr>\n",
       "    <tr>\n",
       "      <th>std</th>\n",
       "      <td>2.688289e+14</td>\n",
       "      <td>6.587076e+04</td>\n",
       "      <td>21.488847</td>\n",
       "      <td>NaN</td>\n",
       "      <td>12.996711</td>\n",
       "    </tr>\n",
       "    <tr>\n",
       "      <th>min</th>\n",
       "      <td>9.377953e+04</td>\n",
       "      <td>5.030230e+06</td>\n",
       "      <td>1.000000</td>\n",
       "      <td>NaN</td>\n",
       "      <td>0.000000</td>\n",
       "    </tr>\n",
       "    <tr>\n",
       "      <th>25%</th>\n",
       "      <td>4.499384e+12</td>\n",
       "      <td>5.624848e+06</td>\n",
       "      <td>21.000000</td>\n",
       "      <td>NaN</td>\n",
       "      <td>0.000000</td>\n",
       "    </tr>\n",
       "    <tr>\n",
       "      <th>50%</th>\n",
       "      <td>3.234821e+13</td>\n",
       "      <td>5.650096e+06</td>\n",
       "      <td>40.000000</td>\n",
       "      <td>NaN</td>\n",
       "      <td>3.000000</td>\n",
       "    </tr>\n",
       "    <tr>\n",
       "      <th>75%</th>\n",
       "      <td>9.548100e+13</td>\n",
       "      <td>5.694644e+06</td>\n",
       "      <td>56.000000</td>\n",
       "      <td>NaN</td>\n",
       "      <td>10.000000</td>\n",
       "    </tr>\n",
       "    <tr>\n",
       "      <th>max</th>\n",
       "      <td>9.999350e+14</td>\n",
       "      <td>5.754683e+06</td>\n",
       "      <td>98.000000</td>\n",
       "      <td>NaN</td>\n",
       "      <td>176.000000</td>\n",
       "    </tr>\n",
       "  </tbody>\n",
       "</table>\n",
       "</div>"
      ],
      "text/plain": [
       "          PatientId  AppointmentID          Age  Handcap    Date.diff\n",
       "count  9.639000e+03   9.638000e+03  9638.000000      0.0  9638.000000\n",
       "mean   1.576959e+14   5.648165e+06    39.226499      NaN     8.365429\n",
       "std    2.688289e+14   6.587076e+04    21.488847      NaN    12.996711\n",
       "min    9.377953e+04   5.030230e+06     1.000000      NaN     0.000000\n",
       "25%    4.499384e+12   5.624848e+06    21.000000      NaN     0.000000\n",
       "50%    3.234821e+13   5.650096e+06    40.000000      NaN     3.000000\n",
       "75%    9.548100e+13   5.694644e+06    56.000000      NaN    10.000000\n",
       "max    9.999350e+14   5.754683e+06    98.000000      NaN   176.000000"
      ]
     },
     "execution_count": 49,
     "metadata": {},
     "output_type": "execute_result"
    }
   ],
   "source": [
    "df.describe()"
   ]
  },
  {
   "cell_type": "code",
   "execution_count": 50,
   "id": "d14cfd1b-5d79-4ae3-9098-80a0268d978a",
   "metadata": {},
   "outputs": [
    {
     "data": {
      "text/plain": [
       "np.int64(208)"
      ]
     },
     "execution_count": 50,
     "metadata": {},
     "output_type": "execute_result"
    }
   ],
   "source": [
    "dataframe.duplicated().sum()"
   ]
  },
  {
   "cell_type": "code",
   "execution_count": 51,
   "id": "fe87b88f-b1f6-49ea-a486-0812aed2fbe7",
   "metadata": {},
   "outputs": [
    {
     "name": "stdout",
     "output_type": "stream",
     "text": [
      "<class 'pandas.core.frame.DataFrame'>\n",
      "RangeIndex: 3479 entries, 0 to 3478\n",
      "Data columns (total 8 columns):\n",
      " #   Column      Non-Null Count  Dtype  \n",
      "---  ------      --------------  -----  \n",
      " 0   Area        3479 non-null   object \n",
      " 1   Room        3479 non-null   int64  \n",
      " 2   Parking     3479 non-null   bool   \n",
      " 3   Warehouse   3479 non-null   bool   \n",
      " 4   Elevator    3479 non-null   bool   \n",
      " 5   Address     3456 non-null   object \n",
      " 6   Price       3479 non-null   float64\n",
      " 7   Price(USD)  3479 non-null   float64\n",
      "dtypes: bool(3), float64(2), int64(1), object(2)\n",
      "memory usage: 146.2+ KB\n"
     ]
    }
   ],
   "source": [
    "dataframe.info()"
   ]
  },
  {
   "cell_type": "code",
   "execution_count": 52,
   "id": "b69eb61b-fbb4-4524-951d-3ff821d297ab",
   "metadata": {},
   "outputs": [
    {
     "data": {
      "text/plain": [
       "Area           0\n",
       "Room           0\n",
       "Parking        0\n",
       "Warehouse      0\n",
       "Elevator       0\n",
       "Address       23\n",
       "Price          0\n",
       "Price(USD)     0\n",
       "dtype: int64"
      ]
     },
     "execution_count": 52,
     "metadata": {},
     "output_type": "execute_result"
    }
   ],
   "source": [
    "dataframe.isnull().sum()"
   ]
  },
  {
   "cell_type": "code",
   "execution_count": 53,
   "id": "0b194cac-6b35-4bf7-91cb-4696d9495232",
   "metadata": {},
   "outputs": [],
   "source": [
    "dataframe['Address'] = dataframe['Address'].fillna(dataframe['Address'].mode()[0])"
   ]
  },
  {
   "cell_type": "code",
   "execution_count": 54,
   "id": "55b36e92-cad7-4d58-b590-18021880a900",
   "metadata": {},
   "outputs": [
    {
     "data": {
      "text/plain": [
       "Area          0\n",
       "Room          0\n",
       "Parking       0\n",
       "Warehouse     0\n",
       "Elevator      0\n",
       "Address       0\n",
       "Price         0\n",
       "Price(USD)    0\n",
       "dtype: int64"
      ]
     },
     "execution_count": 54,
     "metadata": {},
     "output_type": "execute_result"
    }
   ],
   "source": [
    "dataframe.isnull().sum()"
   ]
  },
  {
   "cell_type": "code",
   "execution_count": 55,
   "id": "e56eb5fa-34ce-4304-920a-ee00a7549d98",
   "metadata": {},
   "outputs": [],
   "source": [
    "dataframe=pd.get_dummies(dataframe)"
   ]
  },
  {
   "cell_type": "code",
   "execution_count": 56,
   "id": "5c9b3bbc-2bcc-40cc-ac75-d2cd20255893",
   "metadata": {},
   "outputs": [
    {
     "data": {
      "text/html": [
       "<div>\n",
       "<style scoped>\n",
       "    .dataframe tbody tr th:only-of-type {\n",
       "        vertical-align: middle;\n",
       "    }\n",
       "\n",
       "    .dataframe tbody tr th {\n",
       "        vertical-align: top;\n",
       "    }\n",
       "\n",
       "    .dataframe thead th {\n",
       "        text-align: right;\n",
       "    }\n",
       "</style>\n",
       "<table border=\"1\" class=\"dataframe\">\n",
       "  <thead>\n",
       "    <tr style=\"text-align: right;\">\n",
       "      <th></th>\n",
       "      <th>Room</th>\n",
       "      <th>Parking</th>\n",
       "      <th>Warehouse</th>\n",
       "      <th>Elevator</th>\n",
       "      <th>Price</th>\n",
       "      <th>Price(USD)</th>\n",
       "      <th>Area_ 1,000</th>\n",
       "      <th>Area_ 16,160,000,000</th>\n",
       "      <th>Area_ 2,550,000,000</th>\n",
       "      <th>Area_ 3,310,000,000</th>\n",
       "      <th>...</th>\n",
       "      <th>Address_Waterfall</th>\n",
       "      <th>Address_West Ferdows Boulevard</th>\n",
       "      <th>Address_West Pars</th>\n",
       "      <th>Address_Yaftabad</th>\n",
       "      <th>Address_Yakhchiabad</th>\n",
       "      <th>Address_Yousef Abad</th>\n",
       "      <th>Address_Zafar</th>\n",
       "      <th>Address_Zaferanieh</th>\n",
       "      <th>Address_Zargandeh</th>\n",
       "      <th>Address_Zibadasht</th>\n",
       "    </tr>\n",
       "  </thead>\n",
       "  <tbody>\n",
       "    <tr>\n",
       "      <th>0</th>\n",
       "      <td>1</td>\n",
       "      <td>True</td>\n",
       "      <td>True</td>\n",
       "      <td>True</td>\n",
       "      <td>1.850000e+09</td>\n",
       "      <td>61666.67</td>\n",
       "      <td>False</td>\n",
       "      <td>False</td>\n",
       "      <td>False</td>\n",
       "      <td>False</td>\n",
       "      <td>...</td>\n",
       "      <td>False</td>\n",
       "      <td>False</td>\n",
       "      <td>False</td>\n",
       "      <td>False</td>\n",
       "      <td>False</td>\n",
       "      <td>False</td>\n",
       "      <td>False</td>\n",
       "      <td>False</td>\n",
       "      <td>False</td>\n",
       "      <td>False</td>\n",
       "    </tr>\n",
       "    <tr>\n",
       "      <th>1</th>\n",
       "      <td>1</td>\n",
       "      <td>True</td>\n",
       "      <td>True</td>\n",
       "      <td>True</td>\n",
       "      <td>1.850000e+09</td>\n",
       "      <td>61666.67</td>\n",
       "      <td>False</td>\n",
       "      <td>False</td>\n",
       "      <td>False</td>\n",
       "      <td>False</td>\n",
       "      <td>...</td>\n",
       "      <td>False</td>\n",
       "      <td>False</td>\n",
       "      <td>False</td>\n",
       "      <td>False</td>\n",
       "      <td>False</td>\n",
       "      <td>False</td>\n",
       "      <td>False</td>\n",
       "      <td>False</td>\n",
       "      <td>False</td>\n",
       "      <td>False</td>\n",
       "    </tr>\n",
       "    <tr>\n",
       "      <th>2</th>\n",
       "      <td>2</td>\n",
       "      <td>True</td>\n",
       "      <td>True</td>\n",
       "      <td>True</td>\n",
       "      <td>5.500000e+08</td>\n",
       "      <td>18333.33</td>\n",
       "      <td>False</td>\n",
       "      <td>False</td>\n",
       "      <td>False</td>\n",
       "      <td>False</td>\n",
       "      <td>...</td>\n",
       "      <td>False</td>\n",
       "      <td>False</td>\n",
       "      <td>False</td>\n",
       "      <td>False</td>\n",
       "      <td>False</td>\n",
       "      <td>False</td>\n",
       "      <td>False</td>\n",
       "      <td>False</td>\n",
       "      <td>False</td>\n",
       "      <td>False</td>\n",
       "    </tr>\n",
       "    <tr>\n",
       "      <th>3</th>\n",
       "      <td>2</td>\n",
       "      <td>True</td>\n",
       "      <td>True</td>\n",
       "      <td>True</td>\n",
       "      <td>9.025000e+08</td>\n",
       "      <td>30083.33</td>\n",
       "      <td>False</td>\n",
       "      <td>False</td>\n",
       "      <td>False</td>\n",
       "      <td>False</td>\n",
       "      <td>...</td>\n",
       "      <td>False</td>\n",
       "      <td>False</td>\n",
       "      <td>False</td>\n",
       "      <td>False</td>\n",
       "      <td>False</td>\n",
       "      <td>False</td>\n",
       "      <td>False</td>\n",
       "      <td>False</td>\n",
       "      <td>False</td>\n",
       "      <td>False</td>\n",
       "    </tr>\n",
       "    <tr>\n",
       "      <th>4</th>\n",
       "      <td>2</td>\n",
       "      <td>True</td>\n",
       "      <td>True</td>\n",
       "      <td>True</td>\n",
       "      <td>7.000000e+09</td>\n",
       "      <td>233333.33</td>\n",
       "      <td>False</td>\n",
       "      <td>False</td>\n",
       "      <td>False</td>\n",
       "      <td>False</td>\n",
       "      <td>...</td>\n",
       "      <td>False</td>\n",
       "      <td>False</td>\n",
       "      <td>False</td>\n",
       "      <td>False</td>\n",
       "      <td>False</td>\n",
       "      <td>False</td>\n",
       "      <td>False</td>\n",
       "      <td>False</td>\n",
       "      <td>False</td>\n",
       "      <td>False</td>\n",
       "    </tr>\n",
       "  </tbody>\n",
       "</table>\n",
       "<p>5 rows × 441 columns</p>\n",
       "</div>"
      ],
      "text/plain": [
       "   Room  Parking  Warehouse  Elevator         Price  Price(USD)  Area_ 1,000   \\\n",
       "0     1     True       True      True  1.850000e+09    61666.67         False   \n",
       "1     1     True       True      True  1.850000e+09    61666.67         False   \n",
       "2     2     True       True      True  5.500000e+08    18333.33         False   \n",
       "3     2     True       True      True  9.025000e+08    30083.33         False   \n",
       "4     2     True       True      True  7.000000e+09   233333.33         False   \n",
       "\n",
       "   Area_ 16,160,000,000   Area_ 2,550,000,000   Area_ 3,310,000,000   ...  \\\n",
       "0                  False                 False                 False  ...   \n",
       "1                  False                 False                 False  ...   \n",
       "2                  False                 False                 False  ...   \n",
       "3                  False                 False                 False  ...   \n",
       "4                  False                 False                 False  ...   \n",
       "\n",
       "   Address_Waterfall  Address_West Ferdows Boulevard  Address_West Pars  \\\n",
       "0              False                           False              False   \n",
       "1              False                           False              False   \n",
       "2              False                           False              False   \n",
       "3              False                           False              False   \n",
       "4              False                           False              False   \n",
       "\n",
       "   Address_Yaftabad  Address_Yakhchiabad  Address_Yousef Abad  Address_Zafar  \\\n",
       "0             False                False                False          False   \n",
       "1             False                False                False          False   \n",
       "2             False                False                False          False   \n",
       "3             False                False                False          False   \n",
       "4             False                False                False          False   \n",
       "\n",
       "   Address_Zaferanieh  Address_Zargandeh  Address_Zibadasht  \n",
       "0               False              False              False  \n",
       "1               False              False              False  \n",
       "2               False              False              False  \n",
       "3               False              False              False  \n",
       "4               False              False              False  \n",
       "\n",
       "[5 rows x 441 columns]"
      ]
     },
     "execution_count": 56,
     "metadata": {},
     "output_type": "execute_result"
    }
   ],
   "source": [
    "dataframe.head()"
   ]
  },
  {
   "cell_type": "code",
   "execution_count": 57,
   "id": "f886bf59-a4f3-414d-9c1d-7ac72338e140",
   "metadata": {},
   "outputs": [
    {
     "data": {
      "text/plain": [
       "Index(['Room', 'Parking', 'Warehouse', 'Elevator', 'Price', 'Price(USD)',\n",
       "       'Area_ 1,000 ', 'Area_ 16,160,000,000 ', 'Area_ 2,550,000,000 ',\n",
       "       'Area_ 3,310,000,000 ',\n",
       "       ...\n",
       "       'Address_Waterfall', 'Address_West Ferdows Boulevard',\n",
       "       'Address_West Pars', 'Address_Yaftabad', 'Address_Yakhchiabad',\n",
       "       'Address_Yousef Abad', 'Address_Zafar', 'Address_Zaferanieh',\n",
       "       'Address_Zargandeh', 'Address_Zibadasht'],\n",
       "      dtype='object', length=441)"
      ]
     },
     "execution_count": 57,
     "metadata": {},
     "output_type": "execute_result"
    }
   ],
   "source": [
    "dataframe.columns"
   ]
  },
  {
   "cell_type": "code",
   "execution_count": 58,
   "id": "8e18197b-b962-47a0-90bf-be4d388ad401",
   "metadata": {},
   "outputs": [],
   "source": [
    "# First define y (target) BEFORE dropping\n",
    "y = dataframe['Elevator']          # target variable\n",
    "\n",
    "# Then drop it from X (features)\n",
    "X = dataframe.drop(['Elevator'], axis=1)\n"
   ]
  },
  {
   "cell_type": "code",
   "execution_count": 59,
   "id": "cc41c4f8-bac0-4e75-8fa8-0f491b7fe212",
   "metadata": {},
   "outputs": [],
   "source": [
    "from sklearn.model_selection import train_test_split\n",
    "from sklearn.linear_model import LinearRegression\n",
    "\n",
    "# Step 1: Define target and features\n",
    "y = dataframe['Elevator']                 # target\n",
    "X = dataframe.drop(['Elevator'], axis=1)  # features\n",
    "\n",
    "# Step 2: Split into train/test\n",
    "X_train, X_test, y_train, y_test = train_test_split(X, y, test_size=0.2, random_state=42)\n",
    "\n",
    "# Step 3: Create model\n",
    "model = LinearRegression()\n",
    "\n",
    "# Step 4: Train model\n",
    "model.fit(X_train, y_train)\n",
    "\n",
    "# Step 5: Predict\n",
    "y_pred = model.predict(X_test)\n"
   ]
  },
  {
   "cell_type": "code",
   "execution_count": null,
   "id": "5a4b2da4-fbca-474b-afd0-163126ed26f5",
   "metadata": {},
   "outputs": [],
   "source": []
  }
 ],
 "metadata": {
  "kernelspec": {
   "display_name": "Python 3 (ipykernel)",
   "language": "python",
   "name": "python3"
  },
  "language_info": {
   "codemirror_mode": {
    "name": "ipython",
    "version": 3
   },
   "file_extension": ".py",
   "mimetype": "text/x-python",
   "name": "python",
   "nbconvert_exporter": "python",
   "pygments_lexer": "ipython3",
   "version": "3.13.5"
  }
 },
 "nbformat": 4,
 "nbformat_minor": 5
}
